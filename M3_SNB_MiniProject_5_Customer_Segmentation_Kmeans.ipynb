{
  "nbformat": 4,
  "nbformat_minor": 5,
  "metadata": {
    "colab": {
      "provenance": [],
      "include_colab_link": true
    },
    "kernelspec": {
      "display_name": "Python 3",
      "language": "python",
      "name": "python3"
    },
    "language_info": {
      "codemirror_mode": {
        "name": "ipython",
        "version": 3
      },
      "file_extension": ".py",
      "mimetype": "text/x-python",
      "name": "python",
      "nbconvert_exporter": "python",
      "pygments_lexer": "ipython3",
      "version": "3.6.9"
    }
  },
  "cells": [
    {
      "cell_type": "markdown",
      "metadata": {
        "id": "view-in-github",
        "colab_type": "text"
      },
      "source": [
        "<a href=\"https://colab.research.google.com/github/shanvelc/CDS-ML/blob/main/M3_SNB_MiniProject_5_Customer_Segmentation_Kmeans.ipynb\" target=\"_parent\"><img src=\"https://colab.research.google.com/assets/colab-badge.svg\" alt=\"Open In Colab\"/></a>"
      ]
    },
    {
      "cell_type": "markdown",
      "metadata": {
        "id": "another-optimum"
      },
      "source": [
        "# Advanced Certification Program in Computational Data Science\n",
        "\n",
        "##  A program by IISc and TalentSprint\n",
        "\n",
        "### Mini Project Notebook: Customer segmentation using clustering"
      ],
      "id": "another-optimum"
    },
    {
      "cell_type": "markdown",
      "metadata": {
        "id": "maritime-miami"
      },
      "source": [
        "## Learning Objectives"
      ],
      "id": "maritime-miami"
    },
    {
      "cell_type": "markdown",
      "metadata": {
        "id": "nljJR6CwfZN_"
      },
      "source": [
        "At the end of the experiment, you will be able to :\n",
        "\n",
        "* extract summary level insight from a given customer dataset.\n",
        "\n",
        "* handle the missing data and identify the underlying pattern or structure of the data.\n",
        "\n",
        "* create an unsupervised model that generates the optimum number of segments for the customer base\n",
        "\n",
        "* identify customer segments based on the overall buying behaviour\n"
      ],
      "id": "nljJR6CwfZN_"
    },
    {
      "cell_type": "markdown",
      "metadata": {
        "id": "surprising-uruguay"
      },
      "source": [
        "## Dataset"
      ],
      "id": "surprising-uruguay"
    },
    {
      "cell_type": "markdown",
      "metadata": {
        "id": "interior-simple"
      },
      "source": [
        "The dataset chosen for this mini project is the Online Retail dataset. It is a transnational data set which contains all the transactions occurring between 01/12/2010 and 09/12/2011 for a UK-based and registered non-store online retail.\n",
        "\n",
        "The dataset contains 541909 records, and each record is made up of 8 fields.\n",
        "\n",
        "To know more about the dataset : [click here](https://archive.ics.uci.edu/ml/datasets/Online+Retail)"
      ],
      "id": "interior-simple"
    },
    {
      "cell_type": "markdown",
      "metadata": {
        "id": "infrared-olympus"
      },
      "source": [
        "## Information"
      ],
      "id": "infrared-olympus"
    },
    {
      "cell_type": "markdown",
      "metadata": {
        "id": "d6yE5zbTj3Tm"
      },
      "source": [
        "**Clustering** is the task of grouping together a set of objects so that the objects in the same cluster are more similar to each other than to objects in other clusters. Similarity is a measure that reflects the strength of the relationship between two data objects.\n",
        "\n",
        "In the clustering calculation, K-Means is a very popular algorithm. In this analysis, this method is used to cluster the similar data items.\n",
        "\n",
        "In Retail and E-Commerce (B2C), and more broadly in B2B, one of the key elements shaping the business strategy of a firm is understanding of customer behaviour. More specifically, understanding the customers based on different business metrics: how much they spend (revenue), how often they spend (frequency), are they new or existing customers, what are their favorite products, etc... Such understanding in turn helps direct marketing, sales, account management and product teams to support customers on a personalized level and improve the product offering.\n",
        "\n",
        "Furthermore, segmenting customers into different categories based on similar/cyclical buying pattern over a period of 1 year helps the retail shops manage their inventory better, thereby lowering costs and raising revenues by placing the orders in sync with the buying cycles."
      ],
      "id": "d6yE5zbTj3Tm"
    },
    {
      "cell_type": "markdown",
      "metadata": {
        "id": "ih-oasWmdZul"
      },
      "source": [
        "## Problem Statement"
      ],
      "id": "ih-oasWmdZul"
    },
    {
      "cell_type": "markdown",
      "metadata": {
        "id": "qfWGmjNHdZul"
      },
      "source": [
        "Perform customer segmentation for an Online Retail using an Unsupervised Clustering technique"
      ],
      "id": "qfWGmjNHdZul"
    },
    {
      "cell_type": "markdown",
      "metadata": {
        "id": "operating-latter"
      },
      "source": [
        "## Grading = 10 Points"
      ],
      "id": "operating-latter"
    },
    {
      "cell_type": "markdown",
      "metadata": {
        "id": "abstract-stocks"
      },
      "source": [
        "### Import Required packages"
      ],
      "id": "abstract-stocks"
    },
    {
      "cell_type": "code",
      "metadata": {
        "id": "advisory-knowing"
      },
      "source": [
        "from matplotlib import pyplot as plt\n",
        "import numpy as np\n",
        "import pandas as pd\n",
        "import seaborn as sns\n",
        "import math\n",
        "import scipy\n",
        "from scipy.stats import norm\n",
        "from sklearn.cluster import KMeans\n",
        "from sklearn.preprocessing import StandardScaler\n",
        "from sklearn.model_selection import train_test_split"
      ],
      "id": "advisory-knowing",
      "execution_count": 1,
      "outputs": []
    },
    {
      "cell_type": "code",
      "metadata": {
        "id": "ybY7HeobdZum",
        "cellView": "form"
      },
      "source": [
        "#@title Download the data\n",
        "!wget -qq https://cdn.iisc.talentsprint.com/CDS/MiniProjects/Online_Retail.zip\n",
        "!unzip -qq Online_Retail.zip"
      ],
      "id": "ybY7HeobdZum",
      "execution_count": 2,
      "outputs": []
    },
    {
      "cell_type": "markdown",
      "metadata": {
        "id": "gp4bF_GJdZuo"
      },
      "source": [
        "## Load the data"
      ],
      "id": "gp4bF_GJdZuo"
    },
    {
      "cell_type": "code",
      "metadata": {
        "id": "prerequisite-knock",
        "outputId": "c48cec91-85b1-404d-fcd5-57ac2dfe7d03",
        "colab": {
          "base_uri": "https://localhost:8080/",
          "height": 206
        }
      },
      "source": [
        "data = pd.read_csv('/content/Online_Retail_Train.csv')\n",
        "data.head()"
      ],
      "id": "prerequisite-knock",
      "execution_count": 3,
      "outputs": [
        {
          "output_type": "execute_result",
          "data": {
            "text/plain": [
              "  InvoiceNo StockCode                         Description  Quantity  \\\n",
              "0    579427     22636  CHILDS BREAKFAST SET CIRCUS PARADE         2   \n",
              "1    554092     21916     SET 12 RETRO WHITE CHALK STICKS        24   \n",
              "2    577774     84692         BOX OF 24 COCKTAIL PARASOLS         6   \n",
              "3   C571196     23350             ROLL WRAP VINTAGE SPOT        -12   \n",
              "4    546649    84509a     SET OF 4 ENGLISH ROSE PLACEMATS         1   \n",
              "\n",
              "           InvoiceDate  UnitPrice  CustomerID         Country  \n",
              "0  2011-11-29 13:04:00       8.50     16479.0  United Kingdom  \n",
              "1  2011-05-22 12:41:00       0.42     17176.0  United Kingdom  \n",
              "2  2011-11-21 15:57:00       0.42     16712.0  United Kingdom  \n",
              "3  2011-10-14 12:02:00       1.25         NaN  United Kingdom  \n",
              "4  2011-03-15 14:17:00       7.46         NaN  United Kingdom  "
            ],
            "text/html": [
              "\n",
              "  <div id=\"df-34453676-7390-44cf-be6c-564916531dab\" class=\"colab-df-container\">\n",
              "    <div>\n",
              "<style scoped>\n",
              "    .dataframe tbody tr th:only-of-type {\n",
              "        vertical-align: middle;\n",
              "    }\n",
              "\n",
              "    .dataframe tbody tr th {\n",
              "        vertical-align: top;\n",
              "    }\n",
              "\n",
              "    .dataframe thead th {\n",
              "        text-align: right;\n",
              "    }\n",
              "</style>\n",
              "<table border=\"1\" class=\"dataframe\">\n",
              "  <thead>\n",
              "    <tr style=\"text-align: right;\">\n",
              "      <th></th>\n",
              "      <th>InvoiceNo</th>\n",
              "      <th>StockCode</th>\n",
              "      <th>Description</th>\n",
              "      <th>Quantity</th>\n",
              "      <th>InvoiceDate</th>\n",
              "      <th>UnitPrice</th>\n",
              "      <th>CustomerID</th>\n",
              "      <th>Country</th>\n",
              "    </tr>\n",
              "  </thead>\n",
              "  <tbody>\n",
              "    <tr>\n",
              "      <th>0</th>\n",
              "      <td>579427</td>\n",
              "      <td>22636</td>\n",
              "      <td>CHILDS BREAKFAST SET CIRCUS PARADE</td>\n",
              "      <td>2</td>\n",
              "      <td>2011-11-29 13:04:00</td>\n",
              "      <td>8.50</td>\n",
              "      <td>16479.0</td>\n",
              "      <td>United Kingdom</td>\n",
              "    </tr>\n",
              "    <tr>\n",
              "      <th>1</th>\n",
              "      <td>554092</td>\n",
              "      <td>21916</td>\n",
              "      <td>SET 12 RETRO WHITE CHALK STICKS</td>\n",
              "      <td>24</td>\n",
              "      <td>2011-05-22 12:41:00</td>\n",
              "      <td>0.42</td>\n",
              "      <td>17176.0</td>\n",
              "      <td>United Kingdom</td>\n",
              "    </tr>\n",
              "    <tr>\n",
              "      <th>2</th>\n",
              "      <td>577774</td>\n",
              "      <td>84692</td>\n",
              "      <td>BOX OF 24 COCKTAIL PARASOLS</td>\n",
              "      <td>6</td>\n",
              "      <td>2011-11-21 15:57:00</td>\n",
              "      <td>0.42</td>\n",
              "      <td>16712.0</td>\n",
              "      <td>United Kingdom</td>\n",
              "    </tr>\n",
              "    <tr>\n",
              "      <th>3</th>\n",
              "      <td>C571196</td>\n",
              "      <td>23350</td>\n",
              "      <td>ROLL WRAP VINTAGE SPOT</td>\n",
              "      <td>-12</td>\n",
              "      <td>2011-10-14 12:02:00</td>\n",
              "      <td>1.25</td>\n",
              "      <td>NaN</td>\n",
              "      <td>United Kingdom</td>\n",
              "    </tr>\n",
              "    <tr>\n",
              "      <th>4</th>\n",
              "      <td>546649</td>\n",
              "      <td>84509a</td>\n",
              "      <td>SET OF 4 ENGLISH ROSE PLACEMATS</td>\n",
              "      <td>1</td>\n",
              "      <td>2011-03-15 14:17:00</td>\n",
              "      <td>7.46</td>\n",
              "      <td>NaN</td>\n",
              "      <td>United Kingdom</td>\n",
              "    </tr>\n",
              "  </tbody>\n",
              "</table>\n",
              "</div>\n",
              "    <div class=\"colab-df-buttons\">\n",
              "\n",
              "  <div class=\"colab-df-container\">\n",
              "    <button class=\"colab-df-convert\" onclick=\"convertToInteractive('df-34453676-7390-44cf-be6c-564916531dab')\"\n",
              "            title=\"Convert this dataframe to an interactive table.\"\n",
              "            style=\"display:none;\">\n",
              "\n",
              "  <svg xmlns=\"http://www.w3.org/2000/svg\" height=\"24px\" viewBox=\"0 -960 960 960\">\n",
              "    <path d=\"M120-120v-720h720v720H120Zm60-500h600v-160H180v160Zm220 220h160v-160H400v160Zm0 220h160v-160H400v160ZM180-400h160v-160H180v160Zm440 0h160v-160H620v160ZM180-180h160v-160H180v160Zm440 0h160v-160H620v160Z\"/>\n",
              "  </svg>\n",
              "    </button>\n",
              "\n",
              "  <style>\n",
              "    .colab-df-container {\n",
              "      display:flex;\n",
              "      gap: 12px;\n",
              "    }\n",
              "\n",
              "    .colab-df-convert {\n",
              "      background-color: #E8F0FE;\n",
              "      border: none;\n",
              "      border-radius: 50%;\n",
              "      cursor: pointer;\n",
              "      display: none;\n",
              "      fill: #1967D2;\n",
              "      height: 32px;\n",
              "      padding: 0 0 0 0;\n",
              "      width: 32px;\n",
              "    }\n",
              "\n",
              "    .colab-df-convert:hover {\n",
              "      background-color: #E2EBFA;\n",
              "      box-shadow: 0px 1px 2px rgba(60, 64, 67, 0.3), 0px 1px 3px 1px rgba(60, 64, 67, 0.15);\n",
              "      fill: #174EA6;\n",
              "    }\n",
              "\n",
              "    .colab-df-buttons div {\n",
              "      margin-bottom: 4px;\n",
              "    }\n",
              "\n",
              "    [theme=dark] .colab-df-convert {\n",
              "      background-color: #3B4455;\n",
              "      fill: #D2E3FC;\n",
              "    }\n",
              "\n",
              "    [theme=dark] .colab-df-convert:hover {\n",
              "      background-color: #434B5C;\n",
              "      box-shadow: 0px 1px 3px 1px rgba(0, 0, 0, 0.15);\n",
              "      filter: drop-shadow(0px 1px 2px rgba(0, 0, 0, 0.3));\n",
              "      fill: #FFFFFF;\n",
              "    }\n",
              "  </style>\n",
              "\n",
              "    <script>\n",
              "      const buttonEl =\n",
              "        document.querySelector('#df-34453676-7390-44cf-be6c-564916531dab button.colab-df-convert');\n",
              "      buttonEl.style.display =\n",
              "        google.colab.kernel.accessAllowed ? 'block' : 'none';\n",
              "\n",
              "      async function convertToInteractive(key) {\n",
              "        const element = document.querySelector('#df-34453676-7390-44cf-be6c-564916531dab');\n",
              "        const dataTable =\n",
              "          await google.colab.kernel.invokeFunction('convertToInteractive',\n",
              "                                                    [key], {});\n",
              "        if (!dataTable) return;\n",
              "\n",
              "        const docLinkHtml = 'Like what you see? Visit the ' +\n",
              "          '<a target=\"_blank\" href=https://colab.research.google.com/notebooks/data_table.ipynb>data table notebook</a>'\n",
              "          + ' to learn more about interactive tables.';\n",
              "        element.innerHTML = '';\n",
              "        dataTable['output_type'] = 'display_data';\n",
              "        await google.colab.output.renderOutput(dataTable, element);\n",
              "        const docLink = document.createElement('div');\n",
              "        docLink.innerHTML = docLinkHtml;\n",
              "        element.appendChild(docLink);\n",
              "      }\n",
              "    </script>\n",
              "  </div>\n",
              "\n",
              "\n",
              "<div id=\"df-d02a924c-1ca2-455d-b87a-f0ec8b585070\">\n",
              "  <button class=\"colab-df-quickchart\" onclick=\"quickchart('df-d02a924c-1ca2-455d-b87a-f0ec8b585070')\"\n",
              "            title=\"Suggest charts\"\n",
              "            style=\"display:none;\">\n",
              "\n",
              "<svg xmlns=\"http://www.w3.org/2000/svg\" height=\"24px\"viewBox=\"0 0 24 24\"\n",
              "     width=\"24px\">\n",
              "    <g>\n",
              "        <path d=\"M19 3H5c-1.1 0-2 .9-2 2v14c0 1.1.9 2 2 2h14c1.1 0 2-.9 2-2V5c0-1.1-.9-2-2-2zM9 17H7v-7h2v7zm4 0h-2V7h2v10zm4 0h-2v-4h2v4z\"/>\n",
              "    </g>\n",
              "</svg>\n",
              "  </button>\n",
              "\n",
              "<style>\n",
              "  .colab-df-quickchart {\n",
              "      --bg-color: #E8F0FE;\n",
              "      --fill-color: #1967D2;\n",
              "      --hover-bg-color: #E2EBFA;\n",
              "      --hover-fill-color: #174EA6;\n",
              "      --disabled-fill-color: #AAA;\n",
              "      --disabled-bg-color: #DDD;\n",
              "  }\n",
              "\n",
              "  [theme=dark] .colab-df-quickchart {\n",
              "      --bg-color: #3B4455;\n",
              "      --fill-color: #D2E3FC;\n",
              "      --hover-bg-color: #434B5C;\n",
              "      --hover-fill-color: #FFFFFF;\n",
              "      --disabled-bg-color: #3B4455;\n",
              "      --disabled-fill-color: #666;\n",
              "  }\n",
              "\n",
              "  .colab-df-quickchart {\n",
              "    background-color: var(--bg-color);\n",
              "    border: none;\n",
              "    border-radius: 50%;\n",
              "    cursor: pointer;\n",
              "    display: none;\n",
              "    fill: var(--fill-color);\n",
              "    height: 32px;\n",
              "    padding: 0;\n",
              "    width: 32px;\n",
              "  }\n",
              "\n",
              "  .colab-df-quickchart:hover {\n",
              "    background-color: var(--hover-bg-color);\n",
              "    box-shadow: 0 1px 2px rgba(60, 64, 67, 0.3), 0 1px 3px 1px rgba(60, 64, 67, 0.15);\n",
              "    fill: var(--button-hover-fill-color);\n",
              "  }\n",
              "\n",
              "  .colab-df-quickchart-complete:disabled,\n",
              "  .colab-df-quickchart-complete:disabled:hover {\n",
              "    background-color: var(--disabled-bg-color);\n",
              "    fill: var(--disabled-fill-color);\n",
              "    box-shadow: none;\n",
              "  }\n",
              "\n",
              "  .colab-df-spinner {\n",
              "    border: 2px solid var(--fill-color);\n",
              "    border-color: transparent;\n",
              "    border-bottom-color: var(--fill-color);\n",
              "    animation:\n",
              "      spin 1s steps(1) infinite;\n",
              "  }\n",
              "\n",
              "  @keyframes spin {\n",
              "    0% {\n",
              "      border-color: transparent;\n",
              "      border-bottom-color: var(--fill-color);\n",
              "      border-left-color: var(--fill-color);\n",
              "    }\n",
              "    20% {\n",
              "      border-color: transparent;\n",
              "      border-left-color: var(--fill-color);\n",
              "      border-top-color: var(--fill-color);\n",
              "    }\n",
              "    30% {\n",
              "      border-color: transparent;\n",
              "      border-left-color: var(--fill-color);\n",
              "      border-top-color: var(--fill-color);\n",
              "      border-right-color: var(--fill-color);\n",
              "    }\n",
              "    40% {\n",
              "      border-color: transparent;\n",
              "      border-right-color: var(--fill-color);\n",
              "      border-top-color: var(--fill-color);\n",
              "    }\n",
              "    60% {\n",
              "      border-color: transparent;\n",
              "      border-right-color: var(--fill-color);\n",
              "    }\n",
              "    80% {\n",
              "      border-color: transparent;\n",
              "      border-right-color: var(--fill-color);\n",
              "      border-bottom-color: var(--fill-color);\n",
              "    }\n",
              "    90% {\n",
              "      border-color: transparent;\n",
              "      border-bottom-color: var(--fill-color);\n",
              "    }\n",
              "  }\n",
              "</style>\n",
              "\n",
              "  <script>\n",
              "    async function quickchart(key) {\n",
              "      const quickchartButtonEl =\n",
              "        document.querySelector('#' + key + ' button');\n",
              "      quickchartButtonEl.disabled = true;  // To prevent multiple clicks.\n",
              "      quickchartButtonEl.classList.add('colab-df-spinner');\n",
              "      try {\n",
              "        const charts = await google.colab.kernel.invokeFunction(\n",
              "            'suggestCharts', [key], {});\n",
              "      } catch (error) {\n",
              "        console.error('Error during call to suggestCharts:', error);\n",
              "      }\n",
              "      quickchartButtonEl.classList.remove('colab-df-spinner');\n",
              "      quickchartButtonEl.classList.add('colab-df-quickchart-complete');\n",
              "    }\n",
              "    (() => {\n",
              "      let quickchartButtonEl =\n",
              "        document.querySelector('#df-d02a924c-1ca2-455d-b87a-f0ec8b585070 button');\n",
              "      quickchartButtonEl.style.display =\n",
              "        google.colab.kernel.accessAllowed ? 'block' : 'none';\n",
              "    })();\n",
              "  </script>\n",
              "</div>\n",
              "\n",
              "    </div>\n",
              "  </div>\n"
            ],
            "application/vnd.google.colaboratory.intrinsic+json": {
              "type": "dataframe",
              "variable_name": "data"
            }
          },
          "metadata": {},
          "execution_count": 3
        }
      ]
    },
    {
      "cell_type": "code",
      "metadata": {
        "id": "OL-K9lnWD71d",
        "outputId": "095ce6d2-383c-45ab-e540-1ec74fadf380",
        "colab": {
          "base_uri": "https://localhost:8080/"
        }
      },
      "source": [
        "data.shape"
      ],
      "id": "OL-K9lnWD71d",
      "execution_count": 4,
      "outputs": [
        {
          "output_type": "execute_result",
          "data": {
            "text/plain": [
              "(514813, 8)"
            ]
          },
          "metadata": {},
          "execution_count": 4
        }
      ]
    },
    {
      "cell_type": "markdown",
      "metadata": {
        "id": "vtV_KWBLUzRk"
      },
      "source": [
        "## Data Pre-processing (2 points)"
      ],
      "id": "vtV_KWBLUzRk"
    },
    {
      "cell_type": "markdown",
      "metadata": {
        "id": "NQrT5tx3dZuq"
      },
      "source": [
        "Explore the dataset by performing the following operations:\n",
        "\n",
        "* There is a lot of redundant data. Identify such data and take appropriate action.\n",
        "\n",
        "  **Hint:** refer to this [link](https://pandas.pydata.org/pandas-docs/stable/reference/api/pandas.DataFrame.drop_duplicates.html)\n",
        "\n",
        "* Most Invoices appear as normal transactions with positive quantity and prices, but there are some prefixed with \"C\" or \"A\" which denote different transaction types. Invoice starting with C represents cancelled order and A represents the Adjusted. Identify such data and take appropriate action.\n",
        "\n",
        "  **Hint:** Check the negative values in Quantity column for all cancelled orders\n",
        "\n",
        "* Handle the null values by dropping or filling with appropriate mean\n",
        "\n",
        "\n",
        "* Some of the transactions based on the `StockCode` variable are not actually products, but representing the costs or fees regarding to the post or bank or other tansactions. Find such data and handle it accordingly.\n",
        "\n",
        "  Hint:\n",
        "    - The transaction with `'POST' 'PADS' 'M' 'DOT' 'C2' 'BANK CHARGES'` as their `StockCodes` are considered as irrelevant transactions.\n",
        "\n",
        "* Identify the outliers in the UntiPrice and Quantity and handle them accordingly.\n",
        "\n",
        "  **Hint:** [link](https://thecleverprogrammer.com/2023/07/26/detect-and-remove-outliers-using-python/)\n",
        "* Create a DayOfWeek column using `InvoiceDate`, Hint: pd.to_datetime()\n",
        "\n",
        "**Note:** Perform all the above operations using a function to reuse and apply the same for test data."
      ],
      "id": "NQrT5tx3dZuq"
    },
    {
      "cell_type": "code",
      "metadata": {
        "id": "MIqHzKCOIcT4"
      },
      "source": [
        "# original dataframe for backup\n",
        "data_orig = data"
      ],
      "id": "MIqHzKCOIcT4",
      "execution_count": 5,
      "outputs": []
    },
    {
      "cell_type": "code",
      "metadata": {
        "id": "advanced-dispute",
        "outputId": "88739720-7d85-4a5a-e86d-9e86ea6e5acf",
        "colab": {
          "base_uri": "https://localhost:8080/"
        }
      },
      "source": [
        "# Identify the cancelled orders\n",
        "len(data[data.InvoiceNo.str[0] == 'C']), len(data[data.Quantity < 1 ])"
      ],
      "id": "advanced-dispute",
      "execution_count": 6,
      "outputs": [
        {
          "output_type": "execute_result",
          "data": {
            "text/plain": [
              "(8797, 10084)"
            ]
          },
          "metadata": {},
          "execution_count": 6
        }
      ]
    },
    {
      "cell_type": "code",
      "metadata": {
        "id": "european-discount",
        "outputId": "d94f66c7-09f0-4117-ca7a-32f5d1d51ae0",
        "colab": {
          "base_uri": "https://localhost:8080/",
          "height": 335
        }
      },
      "source": [
        "# Check the null values\n",
        "data.isna().sum()"
      ],
      "id": "european-discount",
      "execution_count": 7,
      "outputs": [
        {
          "output_type": "execute_result",
          "data": {
            "text/plain": [
              "InvoiceNo           0\n",
              "StockCode           0\n",
              "Description      1385\n",
              "Quantity            0\n",
              "InvoiceDate         0\n",
              "UnitPrice           0\n",
              "CustomerID     128263\n",
              "Country             0\n",
              "dtype: int64"
            ],
            "text/html": [
              "<div>\n",
              "<style scoped>\n",
              "    .dataframe tbody tr th:only-of-type {\n",
              "        vertical-align: middle;\n",
              "    }\n",
              "\n",
              "    .dataframe tbody tr th {\n",
              "        vertical-align: top;\n",
              "    }\n",
              "\n",
              "    .dataframe thead th {\n",
              "        text-align: right;\n",
              "    }\n",
              "</style>\n",
              "<table border=\"1\" class=\"dataframe\">\n",
              "  <thead>\n",
              "    <tr style=\"text-align: right;\">\n",
              "      <th></th>\n",
              "      <th>0</th>\n",
              "    </tr>\n",
              "  </thead>\n",
              "  <tbody>\n",
              "    <tr>\n",
              "      <th>InvoiceNo</th>\n",
              "      <td>0</td>\n",
              "    </tr>\n",
              "    <tr>\n",
              "      <th>StockCode</th>\n",
              "      <td>0</td>\n",
              "    </tr>\n",
              "    <tr>\n",
              "      <th>Description</th>\n",
              "      <td>1385</td>\n",
              "    </tr>\n",
              "    <tr>\n",
              "      <th>Quantity</th>\n",
              "      <td>0</td>\n",
              "    </tr>\n",
              "    <tr>\n",
              "      <th>InvoiceDate</th>\n",
              "      <td>0</td>\n",
              "    </tr>\n",
              "    <tr>\n",
              "      <th>UnitPrice</th>\n",
              "      <td>0</td>\n",
              "    </tr>\n",
              "    <tr>\n",
              "      <th>CustomerID</th>\n",
              "      <td>128263</td>\n",
              "    </tr>\n",
              "    <tr>\n",
              "      <th>Country</th>\n",
              "      <td>0</td>\n",
              "    </tr>\n",
              "  </tbody>\n",
              "</table>\n",
              "</div><br><label><b>dtype:</b> int64</label>"
            ]
          },
          "metadata": {},
          "execution_count": 7
        }
      ]
    },
    {
      "cell_type": "code",
      "metadata": {
        "id": "protective-tomorrow",
        "outputId": "07369889-64a0-4472-fac3-2d8fd8dc500c",
        "colab": {
          "base_uri": "https://localhost:8080/"
        }
      },
      "source": [
        "# Irrelevant transactions\n",
        "Irrelevant = data['StockCode'].astype('str').unique()\n",
        "Irrelevant.sort()\n",
        "print('Irrelevant Transactions: \\n',Irrelevant[::-1][:100])"
      ],
      "id": "protective-tomorrow",
      "execution_count": 8,
      "outputs": [
        {
          "output_type": "stream",
          "name": "stdout",
          "text": [
            "Irrelevant Transactions: \n",
            " ['m' 'gift_0001_50' 'gift_0001_40' 'gift_0001_30' 'gift_0001_20'\n",
            " 'gift_0001_10' 'S' 'POST' 'PADS' 'M' 'DOT' 'DCGSSGIRL' 'DCGSSBOY'\n",
            " 'DCGS0076' 'DCGS0074' 'DCGS0073' 'DCGS0072' 'DCGS0071' 'DCGS0070'\n",
            " 'DCGS0069' 'DCGS0068' 'DCGS0066P' 'DCGS0057' 'DCGS0004' 'DCGS0003' 'D'\n",
            " 'CRUK' 'C2' 'BANK CHARGES' 'B' 'AMAZONFEE' '90214Z' '90214Y' '90214W'\n",
            " '90214V' '90214U' '90214T' '90214S' '90214R' '90214P' '90214O' '90214N'\n",
            " '90214M' '90214L' '90214K' '90214J' '90214I' '90214H' '90214G' '90214F'\n",
            " '90214E' '90214D' '90214C' '90214B' '90214A' '90212C' '90212B' '90211B'\n",
            " '90211A' '90210D' '90210C' '90210B' '90210A' '90209C' '90209B' '90209A'\n",
            " '90208' '90206C' '90206A' '90205C' '90205A' '90204' '90202D' '90202C'\n",
            " '90202B' '90202A' '90201D' '90201C' '90201B' '90201A' '90200E' '90200D'\n",
            " '90200C' '90200B' '90200A' '90199D' '90199C' '90199B' '90199A' '90198B'\n",
            " '90198A' '90197B' '90196B' '90196A' '90195B' '90195A' '90194' '90192'\n",
            " '90191' '90190C']\n"
          ]
        }
      ]
    },
    {
      "cell_type": "markdown",
      "source": [
        "In the following function **pre_processing()**, the thresholds for the z-scores are selected based on standard practices in outlier detection using the Z-score method.\n",
        "- Typically, a Z-score threshold of < 3 is a common rule of thumb for identifying outliers in many data sets, as it covers about 99.7% of the data in a normal distribution, which is why it has been chosen for 'UnitPrice'.\n",
        "\n",
        "**Python code to test:**"
      ],
      "metadata": {
        "id": "A_MtTJs2X6TL"
      },
      "id": "A_MtTJs2X6TL"
    },
    {
      "cell_type": "code",
      "source": [
        "# Calculating Z-scores for 'UnitPrice'\n",
        "z_scores = scipy.stats.zscore(data_orig['UnitPrice'])\n",
        "\n",
        "# Determining the threshold corresponding to 99.7% of the data\n",
        "threshold_UnitPrice = scipy.stats.norm.ppf(0.997)\n",
        "print(\"Threshold for UnitPrice:\", threshold_UnitPrice)"
      ],
      "metadata": {
        "id": "gxfdBTQ0X-nD",
        "outputId": "1811fa5b-a81a-4ce9-e726-b19440bb0106",
        "colab": {
          "base_uri": "https://localhost:8080/"
        }
      },
      "id": "gxfdBTQ0X-nD",
      "execution_count": 9,
      "outputs": [
        {
          "output_type": "stream",
          "name": "stdout",
          "text": [
            "Threshold for UnitPrice: 2.7477813854449926\n"
          ]
        }
      ]
    },
    {
      "cell_type": "markdown",
      "source": [
        "**So, in the following function 'pre_processing()', the threshold for 'UnitPrice' has been selected < 3.**\n",
        "\n",
        "However for 'Quantity', to consider higher variance, a slightly higher threshold < 5 has been chosen.\n",
        "\n",
        "**Python code to test:**"
      ],
      "metadata": {
        "id": "jwsOVgXlYFKD"
      },
      "id": "jwsOVgXlYFKD"
    },
    {
      "cell_type": "code",
      "source": [
        "# Calculating the variance of the 'Quantity' column\n",
        "variance_quantity = np.var(data_orig['Quantity'])\n",
        "# Printing the variance\n",
        "print(f\"Variance of Quantity: {variance_quantity}\")"
      ],
      "metadata": {
        "id": "kTM3TUbcYcAa",
        "outputId": "76b46209-804c-4f69-8ed5-9998594fd5e8",
        "colab": {
          "base_uri": "https://localhost:8080/"
        }
      },
      "id": "kTM3TUbcYcAa",
      "execution_count": 10,
      "outputs": [
        {
          "output_type": "stream",
          "name": "stdout",
          "text": [
            "Variance of Quantity: 49965.22486110652\n"
          ]
        }
      ]
    },
    {
      "cell_type": "markdown",
      "source": [
        "Variance of Quantity: 49965.22486110652 which is high."
      ],
      "metadata": {
        "id": "pY8YZE9PYfyD"
      },
      "id": "pY8YZE9PYfyD"
    },
    {
      "cell_type": "code",
      "source": [
        "# Calculating the standard deviation of the 'Quantity' column\n",
        "std_dev_quantity = np.sqrt(np.var(data_orig['Quantity']))\n",
        "\n",
        "# Z-score threshold chosen\n",
        "z_threshold = 4\n",
        "\n",
        "# Calculating the percentage of data within the Z-score threshold\n",
        "percentage_within_threshold = norm.cdf(z_threshold) - norm.cdf(-z_threshold)\n",
        "\n",
        "# Printing the results\n",
        "print(f\"Standard Deviation of Quantity: {std_dev_quantity}\")\n",
        "print(f\"Percentage of data points within a Z-score threshold of {z_threshold}: {percentage_within_threshold * 100}%\")"
      ],
      "metadata": {
        "id": "2_PR5SmiYjtu",
        "outputId": "b6a9127b-8e46-4de0-ebad-5a105cad9df6",
        "colab": {
          "base_uri": "https://localhost:8080/"
        }
      },
      "id": "2_PR5SmiYjtu",
      "execution_count": 11,
      "outputs": [
        {
          "output_type": "stream",
          "name": "stdout",
          "text": [
            "Standard Deviation of Quantity: 223.5290246502823\n",
            "Percentage of data points within a Z-score threshold of 4: 99.99366575163337%\n"
          ]
        }
      ]
    },
    {
      "cell_type": "markdown",
      "source": [
        "- Standard Deviation of Quantity: 223.5290246502823\n",
        "- Percentage of data points within a Z-score threshold of 4: 99.99366575163337%\n",
        "\n",
        "So, in the following function 'pre_processing()', the threshold for 'Quantity' has been chosen < 5.\n",
        "\n",
        "For further details, you can visit this [link](https://medium.com/@datasciencejourney100_83560/z-score-to-identify-and-remove-outliers-c17382a4a739)"
      ],
      "metadata": {
        "id": "mxwHYxFJYo-S"
      },
      "id": "mxwHYxFJYo-S"
    },
    {
      "cell_type": "code",
      "metadata": {
        "id": "c7aLvxTNHjcS",
        "outputId": "3110048d-8b2a-4280-e73a-e103f72cc2b8",
        "colab": {
          "base_uri": "https://localhost:8080/"
        }
      },
      "source": [
        "def pre_processing(df):\n",
        "  df.drop_duplicates(inplace=True)\n",
        "  df = df[~ (df.InvoiceNo.str[0] == 'C')]\n",
        "  df.dropna(inplace=True)\n",
        "  df = df[~(df['StockCode'].isin(['POST', 'PADS', 'M', 'DOT', 'C2', 'BANK CHARGES']))]\n",
        "  df = df[(np.abs(scipy.stats.zscore(df['UnitPrice']))<3) & (np.abs(scipy.stats.zscore(df['Quantity']))<5)]\n",
        "  df['InvoiceDate'] = pd.to_datetime(df['InvoiceDate'].values)\n",
        "  df['DayOfWeek'] = [i.dayofweek for i in df['InvoiceDate']]\n",
        "  df['MonthName'] = [i.month_name() for i in df['InvoiceDate']]\n",
        "  return df\n",
        "\n",
        "data  = pre_processing(data_orig)"
      ],
      "id": "c7aLvxTNHjcS",
      "execution_count": 12,
      "outputs": [
        {
          "output_type": "stream",
          "name": "stderr",
          "text": [
            "<ipython-input-12-70d96094e572>:4: SettingWithCopyWarning: \n",
            "A value is trying to be set on a copy of a slice from a DataFrame\n",
            "\n",
            "See the caveats in the documentation: https://pandas.pydata.org/pandas-docs/stable/user_guide/indexing.html#returning-a-view-versus-a-copy\n",
            "  df.dropna(inplace=True)\n"
          ]
        }
      ]
    },
    {
      "cell_type": "markdown",
      "metadata": {
        "id": "graphic-vampire"
      },
      "source": [
        "## Understanding new insights from the data (1 point)"
      ],
      "id": "graphic-vampire"
    },
    {
      "cell_type": "markdown",
      "metadata": {
        "id": "furnished-station"
      },
      "source": [
        "1.  Are there any free items in the data? How many are there?\n",
        "\n",
        "2.  Find the number of transactions per country and visualize using an appropriate plot\n",
        "\n",
        "3.  What is the ratio of customers who are repeat purchasers vs single-time purchasers? Visualize using an appropriate plot.\n",
        "\n",
        "4. Plot heatmap showing unit price per month and day of the week\n",
        "\n",
        "  **Hint:** Month name as index on Y-axis, Day of the week on X-axis\n",
        "\n",
        "5. Find the top 10 customers who bought the most no.of items. Also find the top 10 Items bought by most no.of customers."
      ],
      "id": "furnished-station"
    },
    {
      "cell_type": "markdown",
      "metadata": {
        "id": "united-memorial"
      },
      "source": [
        "#### 1. Are there any free items in the data ? How many are there ?"
      ],
      "id": "united-memorial"
    },
    {
      "cell_type": "code",
      "metadata": {
        "id": "historic-supervisor",
        "outputId": "db2cf6fc-c376-4576-d935-43fa9bc88485",
        "colab": {
          "base_uri": "https://localhost:8080/",
          "height": 397
        }
      },
      "source": [
        "data[data.UnitPrice == 0].count()"
      ],
      "id": "historic-supervisor",
      "execution_count": 13,
      "outputs": [
        {
          "output_type": "execute_result",
          "data": {
            "text/plain": [
              "InvoiceNo      30\n",
              "StockCode      30\n",
              "Description    30\n",
              "Quantity       30\n",
              "InvoiceDate    30\n",
              "UnitPrice      30\n",
              "CustomerID     30\n",
              "Country        30\n",
              "DayOfWeek      30\n",
              "MonthName      30\n",
              "dtype: int64"
            ],
            "text/html": [
              "<div>\n",
              "<style scoped>\n",
              "    .dataframe tbody tr th:only-of-type {\n",
              "        vertical-align: middle;\n",
              "    }\n",
              "\n",
              "    .dataframe tbody tr th {\n",
              "        vertical-align: top;\n",
              "    }\n",
              "\n",
              "    .dataframe thead th {\n",
              "        text-align: right;\n",
              "    }\n",
              "</style>\n",
              "<table border=\"1\" class=\"dataframe\">\n",
              "  <thead>\n",
              "    <tr style=\"text-align: right;\">\n",
              "      <th></th>\n",
              "      <th>0</th>\n",
              "    </tr>\n",
              "  </thead>\n",
              "  <tbody>\n",
              "    <tr>\n",
              "      <th>InvoiceNo</th>\n",
              "      <td>30</td>\n",
              "    </tr>\n",
              "    <tr>\n",
              "      <th>StockCode</th>\n",
              "      <td>30</td>\n",
              "    </tr>\n",
              "    <tr>\n",
              "      <th>Description</th>\n",
              "      <td>30</td>\n",
              "    </tr>\n",
              "    <tr>\n",
              "      <th>Quantity</th>\n",
              "      <td>30</td>\n",
              "    </tr>\n",
              "    <tr>\n",
              "      <th>InvoiceDate</th>\n",
              "      <td>30</td>\n",
              "    </tr>\n",
              "    <tr>\n",
              "      <th>UnitPrice</th>\n",
              "      <td>30</td>\n",
              "    </tr>\n",
              "    <tr>\n",
              "      <th>CustomerID</th>\n",
              "      <td>30</td>\n",
              "    </tr>\n",
              "    <tr>\n",
              "      <th>Country</th>\n",
              "      <td>30</td>\n",
              "    </tr>\n",
              "    <tr>\n",
              "      <th>DayOfWeek</th>\n",
              "      <td>30</td>\n",
              "    </tr>\n",
              "    <tr>\n",
              "      <th>MonthName</th>\n",
              "      <td>30</td>\n",
              "    </tr>\n",
              "  </tbody>\n",
              "</table>\n",
              "</div><br><label><b>dtype:</b> int64</label>"
            ]
          },
          "metadata": {},
          "execution_count": 13
        }
      ]
    },
    {
      "cell_type": "markdown",
      "metadata": {
        "id": "north-power"
      },
      "source": [
        "#### 2. Find the number of transactions per country and visualize"
      ],
      "id": "north-power"
    },
    {
      "cell_type": "code",
      "metadata": {
        "id": "prescribed-speaking",
        "outputId": "578b549e-613e-4802-9faf-26ef95ef82b1",
        "colab": {
          "base_uri": "https://localhost:8080/",
          "height": 604
        }
      },
      "source": [
        "plt.figure(figsize=(10,7))\n",
        "plt.barh(data.Country.value_counts().index, data.Country.value_counts(), log=True)\n",
        "plt.show()"
      ],
      "id": "prescribed-speaking",
      "execution_count": 14,
      "outputs": [
        {
          "output_type": "display_data",
          "data": {
            "text/plain": [
              "<Figure size 1000x700 with 1 Axes>"
            ],
            "image/png": "[encoded data removed]"
          },
          "metadata": {}
        }
      ]
    },
    {
      "cell_type": "markdown",
      "metadata": {
        "id": "popular-anthropology"
      },
      "source": [
        "#### 3. What is the ratio of customers who are repeat purchasers vs single-time purchasers? Visualize using an appropriate plot"
      ],
      "id": "popular-anthropology"
    },
    {
      "cell_type": "code",
      "metadata": {
        "id": "portuguese-secretariat",
        "outputId": "57500469-6387-4d48-ca66-df0777d401ef",
        "colab": {
          "base_uri": "https://localhost:8080/",
          "height": 454
        }
      },
      "source": [
        "MostRepeat = data.groupby('CustomerID')['InvoiceNo'].nunique().sort_values(ascending=False)\n",
        "rep = MostRepeat[MostRepeat != 1].values\n",
        "nrep = MostRepeat[MostRepeat == 1].values\n",
        "ser = pd.Series([len(rep)/ len(MostRepeat),len(nrep)/len(MostRepeat)], index=['Repeat Customers','One-time Customers'])\n",
        "ser.plot(kind='pie', autopct='%.2f%%').set(ylabel='')\n",
        "plt.suptitle('Top Repeat Customers', fontsize=15)\n",
        "plt.show()"
      ],
      "id": "portuguese-secretariat",
      "execution_count": 15,
      "outputs": [
        {
          "output_type": "display_data",
          "data": {
            "text/plain": [
              "<Figure size 640x480 with 1 Axes>"
            ],
            "image/png": "[encoded data removed]"
          },
          "metadata": {}
        }
      ]
    },
    {
      "cell_type": "markdown",
      "metadata": {
        "id": "checked-bishop"
      },
      "source": [
        "#### 4. Plot a heatmap showing unit price per month and day of the week\n",
        "\n",
        "**Hint:** Month name as index on Y-axis, Day of the week on X-axis"
      ],
      "id": "checked-bishop"
    },
    {
      "cell_type": "code",
      "metadata": {
        "id": "YfEpDox31huU",
        "outputId": "facfb11b-7c26-4ce6-e9c0-788a019440a7",
        "colab": {
          "base_uri": "https://localhost:8080/",
          "height": 112
        }
      },
      "source": [
        "data.head(2)"
      ],
      "id": "YfEpDox31huU",
      "execution_count": 16,
      "outputs": [
        {
          "output_type": "execute_result",
          "data": {
            "text/plain": [
              "  InvoiceNo StockCode                         Description  Quantity  \\\n",
              "0    579427     22636  CHILDS BREAKFAST SET CIRCUS PARADE         2   \n",
              "1    554092     21916     SET 12 RETRO WHITE CHALK STICKS        24   \n",
              "\n",
              "          InvoiceDate  UnitPrice  CustomerID         Country  DayOfWeek  \\\n",
              "0 2011-11-29 13:04:00       8.50     16479.0  United Kingdom          1   \n",
              "1 2011-05-22 12:41:00       0.42     17176.0  United Kingdom          6   \n",
              "\n",
              "  MonthName  \n",
              "0  November  \n",
              "1       May  "
            ],
            "text/html": [
              "\n",
              "  <div id=\"df-e59a1be0-b2ce-4a68-9bfe-044dd9f78a58\" class=\"colab-df-container\">\n",
              "    <div>\n",
              "<style scoped>\n",
              "    .dataframe tbody tr th:only-of-type {\n",
              "        vertical-align: middle;\n",
              "    }\n",
              "\n",
              "    .dataframe tbody tr th {\n",
              "        vertical-align: top;\n",
              "    }\n",
              "\n",
              "    .dataframe thead th {\n",
              "        text-align: right;\n",
              "    }\n",
              "</style>\n",
              "<table border=\"1\" class=\"dataframe\">\n",
              "  <thead>\n",
              "    <tr style=\"text-align: right;\">\n",
              "      <th></th>\n",
              "      <th>InvoiceNo</th>\n",
              "      <th>StockCode</th>\n",
              "      <th>Description</th>\n",
              "      <th>Quantity</th>\n",
              "      <th>InvoiceDate</th>\n",
              "      <th>UnitPrice</th>\n",
              "      <th>CustomerID</th>\n",
              "      <th>Country</th>\n",
              "      <th>DayOfWeek</th>\n",
              "      <th>MonthName</th>\n",
              "    </tr>\n",
              "  </thead>\n",
              "  <tbody>\n",
              "    <tr>\n",
              "      <th>0</th>\n",
              "      <td>579427</td>\n",
              "      <td>22636</td>\n",
              "      <td>CHILDS BREAKFAST SET CIRCUS PARADE</td>\n",
              "      <td>2</td>\n",
              "      <td>2011-11-29 13:04:00</td>\n",
              "      <td>8.50</td>\n",
              "      <td>16479.0</td>\n",
              "      <td>United Kingdom</td>\n",
              "      <td>1</td>\n",
              "      <td>November</td>\n",
              "    </tr>\n",
              "    <tr>\n",
              "      <th>1</th>\n",
              "      <td>554092</td>\n",
              "      <td>21916</td>\n",
              "      <td>SET 12 RETRO WHITE CHALK STICKS</td>\n",
              "      <td>24</td>\n",
              "      <td>2011-05-22 12:41:00</td>\n",
              "      <td>0.42</td>\n",
              "      <td>17176.0</td>\n",
              "      <td>United Kingdom</td>\n",
              "      <td>6</td>\n",
              "      <td>May</td>\n",
              "    </tr>\n",
              "  </tbody>\n",
              "</table>\n",
              "</div>\n",
              "    <div class=\"colab-df-buttons\">\n",
              "\n",
              "  <div class=\"colab-df-container\">\n",
              "    <button class=\"colab-df-convert\" onclick=\"convertToInteractive('df-e59a1be0-b2ce-4a68-9bfe-044dd9f78a58')\"\n",
              "            title=\"Convert this dataframe to an interactive table.\"\n",
              "            style=\"display:none;\">\n",
              "\n",
              "  <svg xmlns=\"http://www.w3.org/2000/svg\" height=\"24px\" viewBox=\"0 -960 960 960\">\n",
              "    <path d=\"M120-120v-720h720v720H120Zm60-500h600v-160H180v160Zm220 220h160v-160H400v160Zm0 220h160v-160H400v160ZM180-400h160v-160H180v160Zm440 0h160v-160H620v160ZM180-180h160v-160H180v160Zm440 0h160v-160H620v160Z\"/>\n",
              "  </svg>\n",
              "    </button>\n",
              "\n",
              "  <style>\n",
              "    .colab-df-container {\n",
              "      display:flex;\n",
              "      gap: 12px;\n",
              "    }\n",
              "\n",
              "    .colab-df-convert {\n",
              "      background-color: #E8F0FE;\n",
              "      border: none;\n",
              "      border-radius: 50%;\n",
              "      cursor: pointer;\n",
              "      display: none;\n",
              "      fill: #1967D2;\n",
              "      height: 32px;\n",
              "      padding: 0 0 0 0;\n",
              "      width: 32px;\n",
              "    }\n",
              "\n",
              "    .colab-df-convert:hover {\n",
              "      background-color: #E2EBFA;\n",
              "      box-shadow: 0px 1px 2px rgba(60, 64, 67, 0.3), 0px 1px 3px 1px rgba(60, 64, 67, 0.15);\n",
              "      fill: #174EA6;\n",
              "    }\n",
              "\n",
              "    .colab-df-buttons div {\n",
              "      margin-bottom: 4px;\n",
              "    }\n",
              "\n",
              "    [theme=dark] .colab-df-convert {\n",
              "      background-color: #3B4455;\n",
              "      fill: #D2E3FC;\n",
              "    }\n",
              "\n",
              "    [theme=dark] .colab-df-convert:hover {\n",
              "      background-color: #434B5C;\n",
              "      box-shadow: 0px 1px 3px 1px rgba(0, 0, 0, 0.15);\n",
              "      filter: drop-shadow(0px 1px 2px rgba(0, 0, 0, 0.3));\n",
              "      fill: #FFFFFF;\n",
              "    }\n",
              "  </style>\n",
              "\n",
              "    <script>\n",
              "      const buttonEl =\n",
              "        document.querySelector('#df-e59a1be0-b2ce-4a68-9bfe-044dd9f78a58 button.colab-df-convert');\n",
              "      buttonEl.style.display =\n",
              "        google.colab.kernel.accessAllowed ? 'block' : 'none';\n",
              "\n",
              "      async function convertToInteractive(key) {\n",
              "        const element = document.querySelector('#df-e59a1be0-b2ce-4a68-9bfe-044dd9f78a58');\n",
              "        const dataTable =\n",
              "          await google.colab.kernel.invokeFunction('convertToInteractive',\n",
              "                                                    [key], {});\n",
              "        if (!dataTable) return;\n",
              "\n",
              "        const docLinkHtml = 'Like what you see? Visit the ' +\n",
              "          '<a target=\"_blank\" href=https://colab.research.google.com/notebooks/data_table.ipynb>data table notebook</a>'\n",
              "          + ' to learn more about interactive tables.';\n",
              "        element.innerHTML = '';\n",
              "        dataTable['output_type'] = 'display_data';\n",
              "        await google.colab.output.renderOutput(dataTable, element);\n",
              "        const docLink = document.createElement('div');\n",
              "        docLink.innerHTML = docLinkHtml;\n",
              "        element.appendChild(docLink);\n",
              "      }\n",
              "    </script>\n",
              "  </div>\n",
              "\n",
              "\n",
              "<div id=\"df-6393edcf-01fa-4e61-9924-17204f4c1a3f\">\n",
              "  <button class=\"colab-df-quickchart\" onclick=\"quickchart('df-6393edcf-01fa-4e61-9924-17204f4c1a3f')\"\n",
              "            title=\"Suggest charts\"\n",
              "            style=\"display:none;\">\n",
              "\n",
              "<svg xmlns=\"http://www.w3.org/2000/svg\" height=\"24px\"viewBox=\"0 0 24 24\"\n",
              "     width=\"24px\">\n",
              "    <g>\n",
              "        <path d=\"M19 3H5c-1.1 0-2 .9-2 2v14c0 1.1.9 2 2 2h14c1.1 0 2-.9 2-2V5c0-1.1-.9-2-2-2zM9 17H7v-7h2v7zm4 0h-2V7h2v10zm4 0h-2v-4h2v4z\"/>\n",
              "    </g>\n",
              "</svg>\n",
              "  </button>\n",
              "\n",
              "<style>\n",
              "  .colab-df-quickchart {\n",
              "      --bg-color: #E8F0FE;\n",
              "      --fill-color: #1967D2;\n",
              "      --hover-bg-color: #E2EBFA;\n",
              "      --hover-fill-color: #174EA6;\n",
              "      --disabled-fill-color: #AAA;\n",
              "      --disabled-bg-color: #DDD;\n",
              "  }\n",
              "\n",
              "  [theme=dark] .colab-df-quickchart {\n",
              "      --bg-color: #3B4455;\n",
              "      --fill-color: #D2E3FC;\n",
              "      --hover-bg-color: #434B5C;\n",
              "      --hover-fill-color: #FFFFFF;\n",
              "      --disabled-bg-color: #3B4455;\n",
              "      --disabled-fill-color: #666;\n",
              "  }\n",
              "\n",
              "  .colab-df-quickchart {\n",
              "    background-color: var(--bg-color);\n",
              "    border: none;\n",
              "    border-radius: 50%;\n",
              "    cursor: pointer;\n",
              "    display: none;\n",
              "    fill: var(--fill-color);\n",
              "    height: 32px;\n",
              "    padding: 0;\n",
              "    width: 32px;\n",
              "  }\n",
              "\n",
              "  .colab-df-quickchart:hover {\n",
              "    background-color: var(--hover-bg-color);\n",
              "    box-shadow: 0 1px 2px rgba(60, 64, 67, 0.3), 0 1px 3px 1px rgba(60, 64, 67, 0.15);\n",
              "    fill: var(--button-hover-fill-color);\n",
              "  }\n",
              "\n",
              "  .colab-df-quickchart-complete:disabled,\n",
              "  .colab-df-quickchart-complete:disabled:hover {\n",
              "    background-color: var(--disabled-bg-color);\n",
              "    fill: var(--disabled-fill-color);\n",
              "    box-shadow: none;\n",
              "  }\n",
              "\n",
              "  .colab-df-spinner {\n",
              "    border: 2px solid var(--fill-color);\n",
              "    border-color: transparent;\n",
              "    border-bottom-color: var(--fill-color);\n",
              "    animation:\n",
              "      spin 1s steps(1) infinite;\n",
              "  }\n",
              "\n",
              "  @keyframes spin {\n",
              "    0% {\n",
              "      border-color: transparent;\n",
              "      border-bottom-color: var(--fill-color);\n",
              "      border-left-color: var(--fill-color);\n",
              "    }\n",
              "    20% {\n",
              "      border-color: transparent;\n",
              "      border-left-color: var(--fill-color);\n",
              "      border-top-color: var(--fill-color);\n",
              "    }\n",
              "    30% {\n",
              "      border-color: transparent;\n",
              "      border-left-color: var(--fill-color);\n",
              "      border-top-color: var(--fill-color);\n",
              "      border-right-color: var(--fill-color);\n",
              "    }\n",
              "    40% {\n",
              "      border-color: transparent;\n",
              "      border-right-color: var(--fill-color);\n",
              "      border-top-color: var(--fill-color);\n",
              "    }\n",
              "    60% {\n",
              "      border-color: transparent;\n",
              "      border-right-color: var(--fill-color);\n",
              "    }\n",
              "    80% {\n",
              "      border-color: transparent;\n",
              "      border-right-color: var(--fill-color);\n",
              "      border-bottom-color: var(--fill-color);\n",
              "    }\n",
              "    90% {\n",
              "      border-color: transparent;\n",
              "      border-bottom-color: var(--fill-color);\n",
              "    }\n",
              "  }\n",
              "</style>\n",
              "\n",
              "  <script>\n",
              "    async function quickchart(key) {\n",
              "      const quickchartButtonEl =\n",
              "        document.querySelector('#' + key + ' button');\n",
              "      quickchartButtonEl.disabled = true;  // To prevent multiple clicks.\n",
              "      quickchartButtonEl.classList.add('colab-df-spinner');\n",
              "      try {\n",
              "        const charts = await google.colab.kernel.invokeFunction(\n",
              "            'suggestCharts', [key], {});\n",
              "      } catch (error) {\n",
              "        console.error('Error during call to suggestCharts:', error);\n",
              "      }\n",
              "      quickchartButtonEl.classList.remove('colab-df-spinner');\n",
              "      quickchartButtonEl.classList.add('colab-df-quickchart-complete');\n",
              "    }\n",
              "    (() => {\n",
              "      let quickchartButtonEl =\n",
              "        document.querySelector('#df-6393edcf-01fa-4e61-9924-17204f4c1a3f button');\n",
              "      quickchartButtonEl.style.display =\n",
              "        google.colab.kernel.accessAllowed ? 'block' : 'none';\n",
              "    })();\n",
              "  </script>\n",
              "</div>\n",
              "\n",
              "    </div>\n",
              "  </div>\n"
            ],
            "application/vnd.google.colaboratory.intrinsic+json": {
              "type": "dataframe",
              "variable_name": "data"
            }
          },
          "metadata": {},
          "execution_count": 16
        }
      ]
    },
    {
      "cell_type": "code",
      "metadata": {
        "id": "visible-assault",
        "outputId": "df3aa2e1-0732-42b9-e32f-13f4fee9bd15",
        "colab": {
          "base_uri": "https://localhost:8080/",
          "height": 547
        }
      },
      "source": [
        "HM_Data = data.pivot_table(index = 'MonthName',columns = 'DayOfWeek', values = 'UnitPrice', aggfunc='sum')\n",
        "plt.figure(figsize = (10,6))\n",
        "sns.heatmap(HM_Data, cmap = 'vlag').set(xlabel='', ylabel='')\n",
        "plt.title('Sales Value per Month and Day of Week', fontsize = 15)\n",
        "plt.show()"
      ],
      "id": "visible-assault",
      "execution_count": 17,
      "outputs": [
        {
          "output_type": "display_data",
          "data": {
            "text/plain": [
              "<Figure size 1000x600 with 2 Axes>"
            ],
            "image/png": "[encoded data removed]"
          },
          "metadata": {}
        }
      ]
    },
    {
      "cell_type": "markdown",
      "metadata": {
        "id": "straight-doctor"
      },
      "source": [
        "#### 5. Find the top 10 customers who bought the most no.of items. Also find the top 10 Items bought by most no. of customers."
      ],
      "id": "straight-doctor"
    },
    {
      "cell_type": "code",
      "metadata": {
        "id": "municipal-blair",
        "outputId": "4d1ceaf5-0efe-4eff-cc7c-e9a1a97f4835",
        "colab": {
          "base_uri": "https://localhost:8080/"
        }
      },
      "source": [
        "Top10Customers = data.groupby('CustomerID').agg({\"Quantity\":\"sum\"}).sort_values('Quantity', ascending=False).iloc[:10]\n",
        "print(Top10Customers)"
      ],
      "id": "municipal-blair",
      "execution_count": 18,
      "outputs": [
        {
          "output_type": "stream",
          "name": "stdout",
          "text": [
            "            Quantity\n",
            "CustomerID          \n",
            "14646.0       177253\n",
            "14911.0        75797\n",
            "12415.0        72540\n",
            "17511.0        61880\n",
            "18102.0        58185\n",
            "13694.0        56404\n",
            "14298.0        54677\n",
            "17450.0        54049\n",
            "14156.0        52024\n",
            "16684.0        47361\n"
          ]
        }
      ]
    },
    {
      "cell_type": "code",
      "metadata": {
        "id": "JR1luwnRCPPS",
        "outputId": "9752ad53-c79d-4d0a-c3a9-ac328d87765e",
        "colab": {
          "base_uri": "https://localhost:8080/"
        }
      },
      "source": [
        "top10Items = data.StockCode.value_counts(sort=True, ascending=False)[:10]\n",
        "print(top10Items)"
      ],
      "id": "JR1luwnRCPPS",
      "execution_count": 19,
      "outputs": [
        {
          "output_type": "stream",
          "name": "stdout",
          "text": [
            "StockCode\n",
            "85123A    1912\n",
            "22423     1629\n",
            "85099B    1530\n",
            "47566     1329\n",
            "84879     1312\n",
            "20725     1253\n",
            "22720     1101\n",
            "23203     1031\n",
            "20727     1027\n",
            "22383     1009\n",
            "Name: count, dtype: int64\n"
          ]
        }
      ]
    },
    {
      "cell_type": "markdown",
      "metadata": {
        "id": "royal-chancellor"
      },
      "source": [
        "## Feature Engineering and Transformation (2 points)"
      ],
      "id": "royal-chancellor"
    },
    {
      "cell_type": "markdown",
      "metadata": {
        "id": "dietary-willow"
      },
      "source": [
        "### Create new features to uncover better insights and drop the unwanted columns\n",
        "\n",
        "* Create a new column which represents Total amount spent by each customer\n",
        "\n",
        "    **Hint:** Quantity * UnitPrice\n",
        "\n",
        "* Customer IDs are seen to be repeated. Maintain unique customer IDs by grouping and summing up all possible observations per customer.\n",
        "\n",
        "    **Hint:** [pandas.groupby.agg](https://pandas.pydata.org/pandas-docs/version/0.22/generated/pandas.core.groupby.DataFrameGroupBy.agg.html)\n",
        "\n",
        "**Note:** Perform the above operations in function, to reuse and apply the same for test data"
      ],
      "id": "dietary-willow"
    },
    {
      "cell_type": "markdown",
      "source": [
        "Note that `DayOfWeek` is a categorical feature and K-Means being a distance based algorithm does not apply well on categorical variables. The recommended way to convert days of week (cyclical feature) to a numerical encoding is to use a trigonometric transformation, as shown [here](https://towardsdatascience.com/stop-one-hot-encoding-your-time-based-features-24c699face2f). We will use the same below."
      ],
      "metadata": {
        "id": "IaVAurV7PsuZ"
      },
      "id": "IaVAurV7PsuZ"
    },
    {
      "cell_type": "code",
      "metadata": {
        "id": "B_32B2W_R1sx"
      },
      "source": [
        "def transformation(column):\n",
        "  max_value = column.max()\n",
        "  sin_values = [math.sin((2*math.pi*x)/max_value) for x in list(column)]\n",
        "  cos_values = [math.cos((2*math.pi*x)/max_value) for x in list(column)]\n",
        "  return sin_values, cos_values\n",
        "\n",
        "def feature_engineering(df):\n",
        "  # total spend by each customer\n",
        "  df['TotalSpend'] = df['Quantity'] * df['UnitPrice']\n",
        "  # unique customers\n",
        "  data_grouped = df.groupby('CustomerID')[['Quantity','TotalSpend']].agg('sum').reset_index()\n",
        "  # maximum visits on day of week by each customer\n",
        "  data_grouped['DayOfWeek'] = df.groupby('CustomerID')['DayOfWeek'].agg('max').reset_index()['DayOfWeek']\n",
        "  # Convert 'DayOfWeek' to numerical feature\n",
        "  data_grouped['DayOfWeek_sin'], data_grouped['DayOfWeek_cos'] = transformation(data_grouped['DayOfWeek'].values)\n",
        "  # Drop 'DayOfWeek' column from dataframe\n",
        "  data_grouped.drop('DayOfWeek', axis=1, inplace=True)\n",
        "  return data_grouped"
      ],
      "execution_count": 20,
      "outputs": [],
      "id": "B_32B2W_R1sx"
    },
    {
      "cell_type": "code",
      "metadata": {
        "id": "8WbzBOmYR1sy",
        "outputId": "2856a100-4b74-4fe6-a011-20ddf399ad94",
        "colab": {
          "base_uri": "https://localhost:8080/",
          "height": 206
        }
      },
      "source": [
        "data_grouped = feature_engineering(data)\n",
        "data_grouped.head()"
      ],
      "execution_count": 21,
      "outputs": [
        {
          "output_type": "execute_result",
          "data": {
            "text/plain": [
              "   CustomerID  Quantity  TotalSpend  DayOfWeek_sin  DayOfWeek_cos\n",
              "0     12347.0      2352     4091.80   1.224647e-16           -1.0\n",
              "1     12348.0      2188     1395.48  -2.449294e-16            1.0\n",
              "2     12349.0       605     1241.26   0.000000e+00            1.0\n",
              "3     12350.0       196      294.40   8.660254e-01           -0.5\n",
              "4     12352.0       526     1385.74   1.224647e-16           -1.0"
            ],
            "text/html": [
              "\n",
              "  <div id=\"df-21692caf-00b4-4547-81aa-a0566785b847\" class=\"colab-df-container\">\n",
              "    <div>\n",
              "<style scoped>\n",
              "    .dataframe tbody tr th:only-of-type {\n",
              "        vertical-align: middle;\n",
              "    }\n",
              "\n",
              "    .dataframe tbody tr th {\n",
              "        vertical-align: top;\n",
              "    }\n",
              "\n",
              "    .dataframe thead th {\n",
              "        text-align: right;\n",
              "    }\n",
              "</style>\n",
              "<table border=\"1\" class=\"dataframe\">\n",
              "  <thead>\n",
              "    <tr style=\"text-align: right;\">\n",
              "      <th></th>\n",
              "      <th>CustomerID</th>\n",
              "      <th>Quantity</th>\n",
              "      <th>TotalSpend</th>\n",
              "      <th>DayOfWeek_sin</th>\n",
              "      <th>DayOfWeek_cos</th>\n",
              "    </tr>\n",
              "  </thead>\n",
              "  <tbody>\n",
              "    <tr>\n",
              "      <th>0</th>\n",
              "      <td>12347.0</td>\n",
              "      <td>2352</td>\n",
              "      <td>4091.80</td>\n",
              "      <td>1.224647e-16</td>\n",
              "      <td>-1.0</td>\n",
              "    </tr>\n",
              "    <tr>\n",
              "      <th>1</th>\n",
              "      <td>12348.0</td>\n",
              "      <td>2188</td>\n",
              "      <td>1395.48</td>\n",
              "      <td>-2.449294e-16</td>\n",
              "      <td>1.0</td>\n",
              "    </tr>\n",
              "    <tr>\n",
              "      <th>2</th>\n",
              "      <td>12349.0</td>\n",
              "      <td>605</td>\n",
              "      <td>1241.26</td>\n",
              "      <td>0.000000e+00</td>\n",
              "      <td>1.0</td>\n",
              "    </tr>\n",
              "    <tr>\n",
              "      <th>3</th>\n",
              "      <td>12350.0</td>\n",
              "      <td>196</td>\n",
              "      <td>294.40</td>\n",
              "      <td>8.660254e-01</td>\n",
              "      <td>-0.5</td>\n",
              "    </tr>\n",
              "    <tr>\n",
              "      <th>4</th>\n",
              "      <td>12352.0</td>\n",
              "      <td>526</td>\n",
              "      <td>1385.74</td>\n",
              "      <td>1.224647e-16</td>\n",
              "      <td>-1.0</td>\n",
              "    </tr>\n",
              "  </tbody>\n",
              "</table>\n",
              "</div>\n",
              "    <div class=\"colab-df-buttons\">\n",
              "\n",
              "  <div class=\"colab-df-container\">\n",
              "    <button class=\"colab-df-convert\" onclick=\"convertToInteractive('df-21692caf-00b4-4547-81aa-a0566785b847')\"\n",
              "            title=\"Convert this dataframe to an interactive table.\"\n",
              "            style=\"display:none;\">\n",
              "\n",
              "  <svg xmlns=\"http://www.w3.org/2000/svg\" height=\"24px\" viewBox=\"0 -960 960 960\">\n",
              "    <path d=\"M120-120v-720h720v720H120Zm60-500h600v-160H180v160Zm220 220h160v-160H400v160Zm0 220h160v-160H400v160ZM180-400h160v-160H180v160Zm440 0h160v-160H620v160ZM180-180h160v-160H180v160Zm440 0h160v-160H620v160Z\"/>\n",
              "  </svg>\n",
              "    </button>\n",
              "\n",
              "  <style>\n",
              "    .colab-df-container {\n",
              "      display:flex;\n",
              "      gap: 12px;\n",
              "    }\n",
              "\n",
              "    .colab-df-convert {\n",
              "      background-color: #E8F0FE;\n",
              "      border: none;\n",
              "      border-radius: 50%;\n",
              "      cursor: pointer;\n",
              "      display: none;\n",
              "      fill: #1967D2;\n",
              "      height: 32px;\n",
              "      padding: 0 0 0 0;\n",
              "      width: 32px;\n",
              "    }\n",
              "\n",
              "    .colab-df-convert:hover {\n",
              "      background-color: #E2EBFA;\n",
              "      box-shadow: 0px 1px 2px rgba(60, 64, 67, 0.3), 0px 1px 3px 1px rgba(60, 64, 67, 0.15);\n",
              "      fill: #174EA6;\n",
              "    }\n",
              "\n",
              "    .colab-df-buttons div {\n",
              "      margin-bottom: 4px;\n",
              "    }\n",
              "\n",
              "    [theme=dark] .colab-df-convert {\n",
              "      background-color: #3B4455;\n",
              "      fill: #D2E3FC;\n",
              "    }\n",
              "\n",
              "    [theme=dark] .colab-df-convert:hover {\n",
              "      background-color: #434B5C;\n",
              "      box-shadow: 0px 1px 3px 1px rgba(0, 0, 0, 0.15);\n",
              "      filter: drop-shadow(0px 1px 2px rgba(0, 0, 0, 0.3));\n",
              "      fill: #FFFFFF;\n",
              "    }\n",
              "  </style>\n",
              "\n",
              "    <script>\n",
              "      const buttonEl =\n",
              "        document.querySelector('#df-21692caf-00b4-4547-81aa-a0566785b847 button.colab-df-convert');\n",
              "      buttonEl.style.display =\n",
              "        google.colab.kernel.accessAllowed ? 'block' : 'none';\n",
              "\n",
              "      async function convertToInteractive(key) {\n",
              "        const element = document.querySelector('#df-21692caf-00b4-4547-81aa-a0566785b847');\n",
              "        const dataTable =\n",
              "          await google.colab.kernel.invokeFunction('convertToInteractive',\n",
              "                                                    [key], {});\n",
              "        if (!dataTable) return;\n",
              "\n",
              "        const docLinkHtml = 'Like what you see? Visit the ' +\n",
              "          '<a target=\"_blank\" href=https://colab.research.google.com/notebooks/data_table.ipynb>data table notebook</a>'\n",
              "          + ' to learn more about interactive tables.';\n",
              "        element.innerHTML = '';\n",
              "        dataTable['output_type'] = 'display_data';\n",
              "        await google.colab.output.renderOutput(dataTable, element);\n",
              "        const docLink = document.createElement('div');\n",
              "        docLink.innerHTML = docLinkHtml;\n",
              "        element.appendChild(docLink);\n",
              "      }\n",
              "    </script>\n",
              "  </div>\n",
              "\n",
              "\n",
              "<div id=\"df-48a3dc58-45c5-40fc-becc-cbe55d4fa4b3\">\n",
              "  <button class=\"colab-df-quickchart\" onclick=\"quickchart('df-48a3dc58-45c5-40fc-becc-cbe55d4fa4b3')\"\n",
              "            title=\"Suggest charts\"\n",
              "            style=\"display:none;\">\n",
              "\n",
              "<svg xmlns=\"http://www.w3.org/2000/svg\" height=\"24px\"viewBox=\"0 0 24 24\"\n",
              "     width=\"24px\">\n",
              "    <g>\n",
              "        <path d=\"M19 3H5c-1.1 0-2 .9-2 2v14c0 1.1.9 2 2 2h14c1.1 0 2-.9 2-2V5c0-1.1-.9-2-2-2zM9 17H7v-7h2v7zm4 0h-2V7h2v10zm4 0h-2v-4h2v4z\"/>\n",
              "    </g>\n",
              "</svg>\n",
              "  </button>\n",
              "\n",
              "<style>\n",
              "  .colab-df-quickchart {\n",
              "      --bg-color: #E8F0FE;\n",
              "      --fill-color: #1967D2;\n",
              "      --hover-bg-color: #E2EBFA;\n",
              "      --hover-fill-color: #174EA6;\n",
              "      --disabled-fill-color: #AAA;\n",
              "      --disabled-bg-color: #DDD;\n",
              "  }\n",
              "\n",
              "  [theme=dark] .colab-df-quickchart {\n",
              "      --bg-color: #3B4455;\n",
              "      --fill-color: #D2E3FC;\n",
              "      --hover-bg-color: #434B5C;\n",
              "      --hover-fill-color: #FFFFFF;\n",
              "      --disabled-bg-color: #3B4455;\n",
              "      --disabled-fill-color: #666;\n",
              "  }\n",
              "\n",
              "  .colab-df-quickchart {\n",
              "    background-color: var(--bg-color);\n",
              "    border: none;\n",
              "    border-radius: 50%;\n",
              "    cursor: pointer;\n",
              "    display: none;\n",
              "    fill: var(--fill-color);\n",
              "    height: 32px;\n",
              "    padding: 0;\n",
              "    width: 32px;\n",
              "  }\n",
              "\n",
              "  .colab-df-quickchart:hover {\n",
              "    background-color: var(--hover-bg-color);\n",
              "    box-shadow: 0 1px 2px rgba(60, 64, 67, 0.3), 0 1px 3px 1px rgba(60, 64, 67, 0.15);\n",
              "    fill: var(--button-hover-fill-color);\n",
              "  }\n",
              "\n",
              "  .colab-df-quickchart-complete:disabled,\n",
              "  .colab-df-quickchart-complete:disabled:hover {\n",
              "    background-color: var(--disabled-bg-color);\n",
              "    fill: var(--disabled-fill-color);\n",
              "    box-shadow: none;\n",
              "  }\n",
              "\n",
              "  .colab-df-spinner {\n",
              "    border: 2px solid var(--fill-color);\n",
              "    border-color: transparent;\n",
              "    border-bottom-color: var(--fill-color);\n",
              "    animation:\n",
              "      spin 1s steps(1) infinite;\n",
              "  }\n",
              "\n",
              "  @keyframes spin {\n",
              "    0% {\n",
              "      border-color: transparent;\n",
              "      border-bottom-color: var(--fill-color);\n",
              "      border-left-color: var(--fill-color);\n",
              "    }\n",
              "    20% {\n",
              "      border-color: transparent;\n",
              "      border-left-color: var(--fill-color);\n",
              "      border-top-color: var(--fill-color);\n",
              "    }\n",
              "    30% {\n",
              "      border-color: transparent;\n",
              "      border-left-color: var(--fill-color);\n",
              "      border-top-color: var(--fill-color);\n",
              "      border-right-color: var(--fill-color);\n",
              "    }\n",
              "    40% {\n",
              "      border-color: transparent;\n",
              "      border-right-color: var(--fill-color);\n",
              "      border-top-color: var(--fill-color);\n",
              "    }\n",
              "    60% {\n",
              "      border-color: transparent;\n",
              "      border-right-color: var(--fill-color);\n",
              "    }\n",
              "    80% {\n",
              "      border-color: transparent;\n",
              "      border-right-color: var(--fill-color);\n",
              "      border-bottom-color: var(--fill-color);\n",
              "    }\n",
              "    90% {\n",
              "      border-color: transparent;\n",
              "      border-bottom-color: var(--fill-color);\n",
              "    }\n",
              "  }\n",
              "</style>\n",
              "\n",
              "  <script>\n",
              "    async function quickchart(key) {\n",
              "      const quickchartButtonEl =\n",
              "        document.querySelector('#' + key + ' button');\n",
              "      quickchartButtonEl.disabled = true;  // To prevent multiple clicks.\n",
              "      quickchartButtonEl.classList.add('colab-df-spinner');\n",
              "      try {\n",
              "        const charts = await google.colab.kernel.invokeFunction(\n",
              "            'suggestCharts', [key], {});\n",
              "      } catch (error) {\n",
              "        console.error('Error during call to suggestCharts:', error);\n",
              "      }\n",
              "      quickchartButtonEl.classList.remove('colab-df-spinner');\n",
              "      quickchartButtonEl.classList.add('colab-df-quickchart-complete');\n",
              "    }\n",
              "    (() => {\n",
              "      let quickchartButtonEl =\n",
              "        document.querySelector('#df-48a3dc58-45c5-40fc-becc-cbe55d4fa4b3 button');\n",
              "      quickchartButtonEl.style.display =\n",
              "        google.colab.kernel.accessAllowed ? 'block' : 'none';\n",
              "    })();\n",
              "  </script>\n",
              "</div>\n",
              "\n",
              "    </div>\n",
              "  </div>\n"
            ],
            "application/vnd.google.colaboratory.intrinsic+json": {
              "type": "dataframe",
              "variable_name": "data_grouped",
              "summary": "{\n  \"name\": \"data_grouped\",\n  \"rows\": 4316,\n  \"fields\": [\n    {\n      \"column\": \"CustomerID\",\n      \"properties\": {\n        \"dtype\": \"number\",\n        \"std\": 1721.0623383046013,\n        \"min\": 12347.0,\n        \"max\": 18287.0,\n        \"num_unique_values\": 4316,\n        \"samples\": [\n          18202.0,\n          15108.0,\n          14987.0\n        ],\n        \"semantic_type\": \"\",\n        \"description\": \"\"\n      }\n    },\n    {\n      \"column\": \"Quantity\",\n      \"properties\": {\n        \"dtype\": \"number\",\n        \"std\": 4282,\n        \"min\": 1,\n        \"max\": 177253,\n        \"num_unique_values\": 1701,\n        \"samples\": [\n          362,\n          156,\n          600\n        ],\n        \"semantic_type\": \"\",\n        \"description\": \"\"\n      }\n    },\n    {\n      \"column\": \"TotalSpend\",\n      \"properties\": {\n        \"dtype\": \"number\",\n        \"std\": 7623.585488022183,\n        \"min\": 3.75,\n        \"max\": 252951.12,\n        \"num_unique_values\": 4229,\n        \"samples\": [\n          101.03,\n          666.97,\n          610.03\n        ],\n        \"semantic_type\": \"\",\n        \"description\": \"\"\n      }\n    },\n    {\n      \"column\": \"DayOfWeek_sin\",\n      \"properties\": {\n        \"dtype\": \"number\",\n        \"std\": 0.5712203179733544,\n        \"min\": -0.8660254037844384,\n        \"max\": 0.8660254037844387,\n        \"num_unique_values\": 6,\n        \"samples\": [\n          1.2246467991473532e-16,\n          -2.4492935982947064e-16,\n          0.8660254037844386\n        ],\n        \"semantic_type\": \"\",\n        \"description\": \"\"\n      }\n    },\n    {\n      \"column\": \"DayOfWeek_cos\",\n      \"properties\": {\n        \"dtype\": \"number\",\n        \"std\": 0.8196950725896726,\n        \"min\": -1.0,\n        \"max\": 1.0,\n        \"num_unique_values\": 5,\n        \"samples\": [\n          1.0,\n          0.5000000000000001,\n          -0.4999999999999998\n        ],\n        \"semantic_type\": \"\",\n        \"description\": \"\"\n      }\n    }\n  ]\n}"
            }
          },
          "metadata": {},
          "execution_count": 21
        }
      ],
      "id": "8WbzBOmYR1sy"
    },
    {
      "cell_type": "markdown",
      "metadata": {
        "id": "respected-empire"
      },
      "source": [
        "### Scale the data\n",
        "\n",
        "Apply `StandardScaler` on the features."
      ],
      "id": "respected-empire"
    },
    {
      "cell_type": "code",
      "metadata": {
        "id": "requested-crystal"
      },
      "source": [
        "# Select the features\n",
        "X = data_grouped.iloc[:, 1:]"
      ],
      "id": "requested-crystal",
      "execution_count": 22,
      "outputs": []
    },
    {
      "cell_type": "code",
      "metadata": {
        "id": "missing-capitol",
        "outputId": "43edaf54-4e2f-4598-c881-baa9a21bf1bb",
        "colab": {
          "base_uri": "https://localhost:8080/"
        }
      },
      "source": [
        "# Feature Scaling\n",
        "\n",
        "sc = StandardScaler()\n",
        "X = sc.fit_transform(X)\n",
        "X.shape, X.min(), X.max()"
      ],
      "id": "missing-capitol",
      "execution_count": 23,
      "outputs": [
        {
          "output_type": "execute_result",
          "data": {
            "text/plain": [
              "((4316, 4), -1.437226931089778, 41.1486005867241)"
            ]
          },
          "metadata": {},
          "execution_count": 23
        }
      ]
    },
    {
      "cell_type": "markdown",
      "metadata": {
        "id": "smooth-florist"
      },
      "source": [
        "## Clustering ( 5 points)"
      ],
      "id": "smooth-florist"
    },
    {
      "cell_type": "markdown",
      "metadata": {
        "id": "rn1qD44PI0H_"
      },
      "source": [
        "### Apply k-means algorithm to identify a specific number of clusters\n",
        "\n",
        "\n",
        "* Fit the k-means model\n",
        "\n",
        "* Extract and store the cluster centroids\n",
        "\n",
        "Below are the parameters for k-means, which are helpful\n",
        "\n",
        "**n_clusters** is no. of clusters specified\n",
        "\n",
        "**k-means++** is a random initialization method for centroids to avoid random initialisation trap\n",
        "\n",
        "**max_iter** is max no of iterations defined when k-means is running\n",
        "\n",
        "**n_init** is no. of times k-means will run with different initial centroids\n",
        "\n",
        "[why-is-k-means-slower-than-random-initialization-k-means](https://stats.stackexchange.com/questions/185396/why-is-k-means-slower-than-random-initialization-k-means/185422)"
      ],
      "id": "rn1qD44PI0H_"
    },
    {
      "cell_type": "code",
      "metadata": {
        "id": "palestinian-parameter",
        "outputId": "c869fc12-eef7-4392-b2e9-70d97b416046",
        "colab": {
          "base_uri": "https://localhost:8080/"
        }
      },
      "source": [
        "# Fitting k-means to the dataset\n",
        "kmeans = KMeans(n_clusters = 7, init = 'k-means++')\n",
        "y_kmeans = kmeans.fit_predict(X)"
      ],
      "id": "palestinian-parameter",
      "execution_count": 24,
      "outputs": [
        {
          "output_type": "stream",
          "name": "stderr",
          "text": [
            "/usr/local/lib/python3.10/dist-packages/sklearn/cluster/_kmeans.py:1416: FutureWarning: The default value of `n_init` will change from 10 to 'auto' in 1.4. Set the value of `n_init` explicitly to suppress the warning\n",
            "  super()._check_params_vs_input(X, default_n_init=10)\n"
          ]
        }
      ]
    },
    {
      "cell_type": "markdown",
      "metadata": {
        "id": "reasonable-burke"
      },
      "source": [
        "#### Find the optimal number of clusters (K) by using the [Elbow method](https://pythonprogramminglanguage.com/kmeans-elbow-method/).\n",
        "\n",
        "Use the optimal no. of clusters and store the cluster centroids"
      ],
      "id": "reasonable-burke"
    },
    {
      "cell_type": "code",
      "metadata": {
        "id": "exciting-senator"
      },
      "source": [
        "# Using the Elbow method to find the optimal no.of clusters\n",
        "inertia = []\n",
        "clusters, centroids = {}, {}\n",
        "\n",
        "for i in range(2,15):\n",
        "    kmeans = KMeans(n_clusters = i, init ='k-means++',max_iter=300,n_init=10)\n",
        "    kmeans.fit(X)\n",
        "    clusters[i] = kmeans.fit_predict(X)\n",
        "    centroids[i] = kmeans.cluster_centers_\n",
        "    inertia.append(kmeans.inertia_)"
      ],
      "id": "exciting-senator",
      "execution_count": 25,
      "outputs": []
    },
    {
      "cell_type": "code",
      "metadata": {
        "id": "architectural-gross",
        "outputId": "3007660e-b8d4-4120-e25b-9f780b5eedd2",
        "colab": {
          "base_uri": "https://localhost:8080/",
          "height": 472
        }
      },
      "source": [
        "# plot the clusters vs inertia\n",
        "plt.plot(range(2,15) , inertia)\n",
        "plt.title('Elbow Method')\n",
        "plt.xlabel('Clusters')\n",
        "plt.ylabel('Inertia')\n",
        "plt.show()"
      ],
      "id": "architectural-gross",
      "execution_count": 26,
      "outputs": [
        {
          "output_type": "display_data",
          "data": {
            "text/plain": [
              "<Figure size 640x480 with 1 Axes>"
            ],
            "image/png": "[encoded data removed]"
          },
          "metadata": {}
        }
      ]
    },
    {
      "cell_type": "code",
      "metadata": {
        "id": "interesting-delta"
      },
      "source": [
        "# Optimal cluster at 6, so choosing centroids\n",
        "centroids_optimal = centroids[6]\n",
        "clusters_optimal = clusters[6]"
      ],
      "id": "interesting-delta",
      "execution_count": 27,
      "outputs": []
    },
    {
      "cell_type": "markdown",
      "metadata": {
        "id": "0q7nKnfVK_Yj"
      },
      "source": [
        "### Apply DBSCAN algorithm for clustering\n",
        "\n",
        "- Compare the results of clusters from k-means and DBSCAN\n"
      ],
      "id": "0q7nKnfVK_Yj"
    },
    {
      "cell_type": "code",
      "metadata": {
        "id": "GP1PwIKeLA8u",
        "outputId": "97d2699f-c2e7-438f-8e6a-87de7e41f203",
        "colab": {
          "base_uri": "https://localhost:8080/"
        }
      },
      "source": [
        "# Perform DBSCAN on data\n",
        "from sklearn.cluster import DBSCAN\n",
        "dbscan = DBSCAN(eps=0.24, min_samples=7)\n",
        "dbscan.fit(X)\n",
        "db_labels = dbscan.labels_\n",
        "print(\"Unique clusters in data: \", np.unique(db_labels))"
      ],
      "id": "GP1PwIKeLA8u",
      "execution_count": 28,
      "outputs": [
        {
          "output_type": "stream",
          "name": "stdout",
          "text": [
            "Unique clusters in data:  [-1  0  1  2  3  4]\n"
          ]
        }
      ]
    },
    {
      "cell_type": "markdown",
      "metadata": {
        "id": "FarGC20zgjHj"
      },
      "source": [
        "### Analyze the clusters\n",
        "\n",
        "\n",
        "- consider two features and visualize the clusters with different colors using the predicted cluster centers.\n",
        "\n",
        "  **Hint:** 2D plot\n",
        "\n",
        "- consider three features and visualize the clusters with different colors using the predicted cluster centers.\n",
        "\n",
        "  **Hint:** [3D plot](https://matplotlib.org/stable/gallery/mplot3d/scatter3d.html\n",
        ")"
      ],
      "id": "FarGC20zgjHj"
    },
    {
      "cell_type": "code",
      "metadata": {
        "id": "wi0-h4zbgjHk",
        "outputId": "af986c63-dad2-4569-e6bf-2921adc4f83f",
        "colab": {
          "base_uri": "https://localhost:8080/",
          "height": 472
        }
      },
      "source": [
        "# Visualising the clusters considering Unit Price and Quantity\n",
        "plt.scatter(X[clusters_optimal == 0, 0], X[clusters_optimal == 0, 1], c = 'red', label = 'cluster 1')\n",
        "plt.scatter(X[clusters_optimal == 1, 0], X[clusters_optimal == 1, 1], c = 'blue', label = 'cluster 2')\n",
        "plt.scatter(X[clusters_optimal == 2, 0], X[clusters_optimal == 2, 1], c = 'green', label = 'cluster 3')\n",
        "plt.scatter(X[clusters_optimal == 3, 0], X[clusters_optimal == 3, 1], c = 'magenta', label = 'cluster 4')\n",
        "plt.scatter(X[clusters_optimal == 4, 0], X[clusters_optimal == 4, 1], c = 'k', label = 'cluster 5')\n",
        "plt.scatter(X[clusters_optimal == 5, 0], X[clusters_optimal == 5, 1], c = 'brown', label = 'cluster 6')\n",
        "plt.scatter(centroids_optimal[:, 0], centroids_optimal[:, 1], s = 100, c = 'yellow', label = 'Centroids')\n",
        "plt.title('Clusters of customers')\n",
        "plt.xlabel('Quantity')\n",
        "plt.ylabel('TotalSpend')\n",
        "plt.legend()\n",
        "plt.show()"
      ],
      "id": "wi0-h4zbgjHk",
      "execution_count": 29,
      "outputs": [
        {
          "output_type": "display_data",
          "data": {
            "text/plain": [
              "<Figure size 640x480 with 1 Axes>"
            ],
            "image/png": "[encoded data removed]"
          },
          "metadata": {}
        }
      ]
    },
    {
      "cell_type": "markdown",
      "metadata": {
        "id": "LUP644eoSLYu"
      },
      "source": [
        "From the above plot, we can see the clusters are separable in 2D plot using scaled features\n",
        "\n",
        "Let's visualize them in 3D considering any 3 features:\n",
        "- `TotalSpend`, `Quantity`, `DayOfWeek_sin`\n",
        "- `TotalSpend`, `Quantity`, `DayOfWeek_cos`"
      ],
      "id": "LUP644eoSLYu"
    },
    {
      "cell_type": "code",
      "source": [
        "# Visualising all the clusters in 3D using `TotalSpend`, `Quantity`, `DayOfWeek_sin`\n",
        "\n",
        "fig = plt.figure(figsize=(10,8))\n",
        "ax = plt.axes(projection='3d')\n",
        "ax.scatter(X[clusters_optimal == 0, 0], X[clusters_optimal == 0, 1], X[clusters_optimal == 0, 2], c = 'red', label = 'cluster 1')\n",
        "ax.scatter(X[clusters_optimal == 1, 0], X[clusters_optimal == 1, 1], X[clusters_optimal == 1, 2], c = 'blue', label = 'cluster 2')\n",
        "ax.scatter(X[clusters_optimal == 2, 0], X[clusters_optimal == 2, 1], X[clusters_optimal == 2, 2], c = 'green', label = 'cluster 3')\n",
        "ax.scatter(X[clusters_optimal == 3, 0], X[clusters_optimal == 3, 1], X[clusters_optimal == 3, 2], c = 'magenta', label = 'cluster 4')\n",
        "ax.scatter(X[clusters_optimal == 4, 0], X[clusters_optimal == 4, 1], X[clusters_optimal == 4, 2], c = 'k', label = 'cluster 5')\n",
        "ax.scatter(X[clusters_optimal == 5, 0], X[clusters_optimal == 5, 1], X[clusters_optimal == 5, 2], c = 'brown', label = 'cluster 6')\n",
        "ax.set_xlabel(\"Quantity\")\n",
        "ax.set_ylabel(\"TotalSpend\")\n",
        "ax.set_zlabel(\"DayOfWeek_sin\")\n",
        "ax.legend()\n",
        "plt.show()"
      ],
      "metadata": {
        "id": "-fxDlaY3dFW_",
        "outputId": "f1cf4ae3-5080-4249-e72a-0907ded58c00",
        "colab": {
          "base_uri": "https://localhost:8080/",
          "height": 653
        }
      },
      "execution_count": 30,
      "outputs": [
        {
          "output_type": "display_data",
          "data": {
            "text/plain": [
              "<Figure size 1000x800 with 1 Axes>"
            ],
            "image/png": "[encoded data removed]"
          },
          "metadata": {}
        }
      ],
      "id": "-fxDlaY3dFW_"
    },
    {
      "cell_type": "code",
      "source": [
        "# Visualising all the clusters in 3D using `TotalSpend`, `Quantity`, `DayOfWeek_cos`\n",
        "\n",
        "fig = plt.figure(figsize=(10,8))\n",
        "ax = plt.axes(projection='3d')\n",
        "ax.scatter(X[clusters_optimal == 0, 0], X[clusters_optimal == 0, 1], X[clusters_optimal == 0, 3], c = 'red', label = 'cluster 1')\n",
        "ax.scatter(X[clusters_optimal == 1, 0], X[clusters_optimal == 1, 1], X[clusters_optimal == 1, 3], c = 'blue', label = 'cluster 2')\n",
        "ax.scatter(X[clusters_optimal == 2, 0], X[clusters_optimal == 2, 1], X[clusters_optimal == 2, 3], c = 'green', label = 'cluster 3')\n",
        "ax.scatter(X[clusters_optimal == 3, 0], X[clusters_optimal == 3, 1], X[clusters_optimal == 3, 3], c = 'magenta', label = 'cluster 4')\n",
        "ax.scatter(X[clusters_optimal == 4, 0], X[clusters_optimal == 4, 1], X[clusters_optimal == 4, 3], c = 'k', label = 'cluster 5')\n",
        "ax.scatter(X[clusters_optimal == 5, 0], X[clusters_optimal == 5, 1], X[clusters_optimal == 5, 3], c = 'brown', label = 'cluster 6')\n",
        "ax.set_xlabel(\"Quantity\")\n",
        "ax.set_ylabel(\"TotalSpend\")\n",
        "ax.set_zlabel(\"DayOfWeek_cos\")\n",
        "ax.legend()\n",
        "plt.show()"
      ],
      "metadata": {
        "id": "WSrFHaovc1AP",
        "outputId": "cdf71fa7-7f1f-4459-af73-52619affb89b",
        "colab": {
          "base_uri": "https://localhost:8080/",
          "height": 653
        }
      },
      "execution_count": 31,
      "outputs": [
        {
          "output_type": "display_data",
          "data": {
            "text/plain": [
              "<Figure size 1000x800 with 1 Axes>"
            ],
            "image/png": "[encoded data removed]"
          },
          "metadata": {}
        }
      ],
      "id": "WSrFHaovc1AP"
    },
    {
      "cell_type": "markdown",
      "metadata": {
        "id": "zef_pWaE20pP"
      },
      "source": [
        "### Train a supervised algorithm on clustered data\n",
        "\n",
        "This will allow us to predict cluster numbers (label) for each test data instance\n",
        "\n",
        "* Create labelled data with k-means cluster labels\n",
        "  \n",
        "  **Hint**: [`kmeans.labels_`](https://scikit-learn.org/stable/modules/generated/sklearn.cluster.KMeans.html\n",
        ")\n",
        "* Split the data into train and validation sets\n",
        "* Train a supervised algorithm on the train data\n",
        "* Find the accuracy of the model using validation data\n",
        "* Use this model to predict the labels for the Test data (note: Test data is provided separately below)"
      ],
      "id": "zef_pWaE20pP"
    },
    {
      "cell_type": "code",
      "metadata": {
        "id": "zztS3U3y3ZvU",
        "outputId": "47b1b985-2dba-413c-c5d4-fe7731bc5ca5",
        "colab": {
          "base_uri": "https://localhost:8080/",
          "height": 143
        }
      },
      "source": [
        "data_grouped['Label'] = clusters[6]\n",
        "data_grouped.head(3)"
      ],
      "id": "zztS3U3y3ZvU",
      "execution_count": 32,
      "outputs": [
        {
          "output_type": "execute_result",
          "data": {
            "text/plain": [
              "   CustomerID  Quantity  TotalSpend  DayOfWeek_sin  DayOfWeek_cos  Label\n",
              "0     12347.0      2352     4091.80   1.224647e-16           -1.0      2\n",
              "1     12348.0      2188     1395.48  -2.449294e-16            1.0      1\n",
              "2     12349.0       605     1241.26   0.000000e+00            1.0      1"
            ],
            "text/html": [
              "\n",
              "  <div id=\"df-fb5d7ba1-90a7-4511-8e94-25638fabdc54\" class=\"colab-df-container\">\n",
              "    <div>\n",
              "<style scoped>\n",
              "    .dataframe tbody tr th:only-of-type {\n",
              "        vertical-align: middle;\n",
              "    }\n",
              "\n",
              "    .dataframe tbody tr th {\n",
              "        vertical-align: top;\n",
              "    }\n",
              "\n",
              "    .dataframe thead th {\n",
              "        text-align: right;\n",
              "    }\n",
              "</style>\n",
              "<table border=\"1\" class=\"dataframe\">\n",
              "  <thead>\n",
              "    <tr style=\"text-align: right;\">\n",
              "      <th></th>\n",
              "      <th>CustomerID</th>\n",
              "      <th>Quantity</th>\n",
              "      <th>TotalSpend</th>\n",
              "      <th>DayOfWeek_sin</th>\n",
              "      <th>DayOfWeek_cos</th>\n",
              "      <th>Label</th>\n",
              "    </tr>\n",
              "  </thead>\n",
              "  <tbody>\n",
              "    <tr>\n",
              "      <th>0</th>\n",
              "      <td>12347.0</td>\n",
              "      <td>2352</td>\n",
              "      <td>4091.80</td>\n",
              "      <td>1.224647e-16</td>\n",
              "      <td>-1.0</td>\n",
              "      <td>2</td>\n",
              "    </tr>\n",
              "    <tr>\n",
              "      <th>1</th>\n",
              "      <td>12348.0</td>\n",
              "      <td>2188</td>\n",
              "      <td>1395.48</td>\n",
              "      <td>-2.449294e-16</td>\n",
              "      <td>1.0</td>\n",
              "      <td>1</td>\n",
              "    </tr>\n",
              "    <tr>\n",
              "      <th>2</th>\n",
              "      <td>12349.0</td>\n",
              "      <td>605</td>\n",
              "      <td>1241.26</td>\n",
              "      <td>0.000000e+00</td>\n",
              "      <td>1.0</td>\n",
              "      <td>1</td>\n",
              "    </tr>\n",
              "  </tbody>\n",
              "</table>\n",
              "</div>\n",
              "    <div class=\"colab-df-buttons\">\n",
              "\n",
              "  <div class=\"colab-df-container\">\n",
              "    <button class=\"colab-df-convert\" onclick=\"convertToInteractive('df-fb5d7ba1-90a7-4511-8e94-25638fabdc54')\"\n",
              "            title=\"Convert this dataframe to an interactive table.\"\n",
              "            style=\"display:none;\">\n",
              "\n",
              "  <svg xmlns=\"http://www.w3.org/2000/svg\" height=\"24px\" viewBox=\"0 -960 960 960\">\n",
              "    <path d=\"M120-120v-720h720v720H120Zm60-500h600v-160H180v160Zm220 220h160v-160H400v160Zm0 220h160v-160H400v160ZM180-400h160v-160H180v160Zm440 0h160v-160H620v160ZM180-180h160v-160H180v160Zm440 0h160v-160H620v160Z\"/>\n",
              "  </svg>\n",
              "    </button>\n",
              "\n",
              "  <style>\n",
              "    .colab-df-container {\n",
              "      display:flex;\n",
              "      gap: 12px;\n",
              "    }\n",
              "\n",
              "    .colab-df-convert {\n",
              "      background-color: #E8F0FE;\n",
              "      border: none;\n",
              "      border-radius: 50%;\n",
              "      cursor: pointer;\n",
              "      display: none;\n",
              "      fill: #1967D2;\n",
              "      height: 32px;\n",
              "      padding: 0 0 0 0;\n",
              "      width: 32px;\n",
              "    }\n",
              "\n",
              "    .colab-df-convert:hover {\n",
              "      background-color: #E2EBFA;\n",
              "      box-shadow: 0px 1px 2px rgba(60, 64, 67, 0.3), 0px 1px 3px 1px rgba(60, 64, 67, 0.15);\n",
              "      fill: #174EA6;\n",
              "    }\n",
              "\n",
              "    .colab-df-buttons div {\n",
              "      margin-bottom: 4px;\n",
              "    }\n",
              "\n",
              "    [theme=dark] .colab-df-convert {\n",
              "      background-color: #3B4455;\n",
              "      fill: #D2E3FC;\n",
              "    }\n",
              "\n",
              "    [theme=dark] .colab-df-convert:hover {\n",
              "      background-color: #434B5C;\n",
              "      box-shadow: 0px 1px 3px 1px rgba(0, 0, 0, 0.15);\n",
              "      filter: drop-shadow(0px 1px 2px rgba(0, 0, 0, 0.3));\n",
              "      fill: #FFFFFF;\n",
              "    }\n",
              "  </style>\n",
              "\n",
              "    <script>\n",
              "      const buttonEl =\n",
              "        document.querySelector('#df-fb5d7ba1-90a7-4511-8e94-25638fabdc54 button.colab-df-convert');\n",
              "      buttonEl.style.display =\n",
              "        google.colab.kernel.accessAllowed ? 'block' : 'none';\n",
              "\n",
              "      async function convertToInteractive(key) {\n",
              "        const element = document.querySelector('#df-fb5d7ba1-90a7-4511-8e94-25638fabdc54');\n",
              "        const dataTable =\n",
              "          await google.colab.kernel.invokeFunction('convertToInteractive',\n",
              "                                                    [key], {});\n",
              "        if (!dataTable) return;\n",
              "\n",
              "        const docLinkHtml = 'Like what you see? Visit the ' +\n",
              "          '<a target=\"_blank\" href=https://colab.research.google.com/notebooks/data_table.ipynb>data table notebook</a>'\n",
              "          + ' to learn more about interactive tables.';\n",
              "        element.innerHTML = '';\n",
              "        dataTable['output_type'] = 'display_data';\n",
              "        await google.colab.output.renderOutput(dataTable, element);\n",
              "        const docLink = document.createElement('div');\n",
              "        docLink.innerHTML = docLinkHtml;\n",
              "        element.appendChild(docLink);\n",
              "      }\n",
              "    </script>\n",
              "  </div>\n",
              "\n",
              "\n",
              "<div id=\"df-77d6cfa9-0e6c-4de3-90a8-ef31a3e8dfc8\">\n",
              "  <button class=\"colab-df-quickchart\" onclick=\"quickchart('df-77d6cfa9-0e6c-4de3-90a8-ef31a3e8dfc8')\"\n",
              "            title=\"Suggest charts\"\n",
              "            style=\"display:none;\">\n",
              "\n",
              "<svg xmlns=\"http://www.w3.org/2000/svg\" height=\"24px\"viewBox=\"0 0 24 24\"\n",
              "     width=\"24px\">\n",
              "    <g>\n",
              "        <path d=\"M19 3H5c-1.1 0-2 .9-2 2v14c0 1.1.9 2 2 2h14c1.1 0 2-.9 2-2V5c0-1.1-.9-2-2-2zM9 17H7v-7h2v7zm4 0h-2V7h2v10zm4 0h-2v-4h2v4z\"/>\n",
              "    </g>\n",
              "</svg>\n",
              "  </button>\n",
              "\n",
              "<style>\n",
              "  .colab-df-quickchart {\n",
              "      --bg-color: #E8F0FE;\n",
              "      --fill-color: #1967D2;\n",
              "      --hover-bg-color: #E2EBFA;\n",
              "      --hover-fill-color: #174EA6;\n",
              "      --disabled-fill-color: #AAA;\n",
              "      --disabled-bg-color: #DDD;\n",
              "  }\n",
              "\n",
              "  [theme=dark] .colab-df-quickchart {\n",
              "      --bg-color: #3B4455;\n",
              "      --fill-color: #D2E3FC;\n",
              "      --hover-bg-color: #434B5C;\n",
              "      --hover-fill-color: #FFFFFF;\n",
              "      --disabled-bg-color: #3B4455;\n",
              "      --disabled-fill-color: #666;\n",
              "  }\n",
              "\n",
              "  .colab-df-quickchart {\n",
              "    background-color: var(--bg-color);\n",
              "    border: none;\n",
              "    border-radius: 50%;\n",
              "    cursor: pointer;\n",
              "    display: none;\n",
              "    fill: var(--fill-color);\n",
              "    height: 32px;\n",
              "    padding: 0;\n",
              "    width: 32px;\n",
              "  }\n",
              "\n",
              "  .colab-df-quickchart:hover {\n",
              "    background-color: var(--hover-bg-color);\n",
              "    box-shadow: 0 1px 2px rgba(60, 64, 67, 0.3), 0 1px 3px 1px rgba(60, 64, 67, 0.15);\n",
              "    fill: var(--button-hover-fill-color);\n",
              "  }\n",
              "\n",
              "  .colab-df-quickchart-complete:disabled,\n",
              "  .colab-df-quickchart-complete:disabled:hover {\n",
              "    background-color: var(--disabled-bg-color);\n",
              "    fill: var(--disabled-fill-color);\n",
              "    box-shadow: none;\n",
              "  }\n",
              "\n",
              "  .colab-df-spinner {\n",
              "    border: 2px solid var(--fill-color);\n",
              "    border-color: transparent;\n",
              "    border-bottom-color: var(--fill-color);\n",
              "    animation:\n",
              "      spin 1s steps(1) infinite;\n",
              "  }\n",
              "\n",
              "  @keyframes spin {\n",
              "    0% {\n",
              "      border-color: transparent;\n",
              "      border-bottom-color: var(--fill-color);\n",
              "      border-left-color: var(--fill-color);\n",
              "    }\n",
              "    20% {\n",
              "      border-color: transparent;\n",
              "      border-left-color: var(--fill-color);\n",
              "      border-top-color: var(--fill-color);\n",
              "    }\n",
              "    30% {\n",
              "      border-color: transparent;\n",
              "      border-left-color: var(--fill-color);\n",
              "      border-top-color: var(--fill-color);\n",
              "      border-right-color: var(--fill-color);\n",
              "    }\n",
              "    40% {\n",
              "      border-color: transparent;\n",
              "      border-right-color: var(--fill-color);\n",
              "      border-top-color: var(--fill-color);\n",
              "    }\n",
              "    60% {\n",
              "      border-color: transparent;\n",
              "      border-right-color: var(--fill-color);\n",
              "    }\n",
              "    80% {\n",
              "      border-color: transparent;\n",
              "      border-right-color: var(--fill-color);\n",
              "      border-bottom-color: var(--fill-color);\n",
              "    }\n",
              "    90% {\n",
              "      border-color: transparent;\n",
              "      border-bottom-color: var(--fill-color);\n",
              "    }\n",
              "  }\n",
              "</style>\n",
              "\n",
              "  <script>\n",
              "    async function quickchart(key) {\n",
              "      const quickchartButtonEl =\n",
              "        document.querySelector('#' + key + ' button');\n",
              "      quickchartButtonEl.disabled = true;  // To prevent multiple clicks.\n",
              "      quickchartButtonEl.classList.add('colab-df-spinner');\n",
              "      try {\n",
              "        const charts = await google.colab.kernel.invokeFunction(\n",
              "            'suggestCharts', [key], {});\n",
              "      } catch (error) {\n",
              "        console.error('Error during call to suggestCharts:', error);\n",
              "      }\n",
              "      quickchartButtonEl.classList.remove('colab-df-spinner');\n",
              "      quickchartButtonEl.classList.add('colab-df-quickchart-complete');\n",
              "    }\n",
              "    (() => {\n",
              "      let quickchartButtonEl =\n",
              "        document.querySelector('#df-77d6cfa9-0e6c-4de3-90a8-ef31a3e8dfc8 button');\n",
              "      quickchartButtonEl.style.display =\n",
              "        google.colab.kernel.accessAllowed ? 'block' : 'none';\n",
              "    })();\n",
              "  </script>\n",
              "</div>\n",
              "\n",
              "    </div>\n",
              "  </div>\n"
            ],
            "application/vnd.google.colaboratory.intrinsic+json": {
              "type": "dataframe",
              "variable_name": "data_grouped",
              "summary": "{\n  \"name\": \"data_grouped\",\n  \"rows\": 4316,\n  \"fields\": [\n    {\n      \"column\": \"CustomerID\",\n      \"properties\": {\n        \"dtype\": \"number\",\n        \"std\": 1721.0623383046013,\n        \"min\": 12347.0,\n        \"max\": 18287.0,\n        \"num_unique_values\": 4316,\n        \"samples\": [\n          18202.0,\n          15108.0,\n          14987.0\n        ],\n        \"semantic_type\": \"\",\n        \"description\": \"\"\n      }\n    },\n    {\n      \"column\": \"Quantity\",\n      \"properties\": {\n        \"dtype\": \"number\",\n        \"std\": 4282,\n        \"min\": 1,\n        \"max\": 177253,\n        \"num_unique_values\": 1701,\n        \"samples\": [\n          362,\n          156,\n          600\n        ],\n        \"semantic_type\": \"\",\n        \"description\": \"\"\n      }\n    },\n    {\n      \"column\": \"TotalSpend\",\n      \"properties\": {\n        \"dtype\": \"number\",\n        \"std\": 7623.585488022183,\n        \"min\": 3.75,\n        \"max\": 252951.12,\n        \"num_unique_values\": 4229,\n        \"samples\": [\n          101.03,\n          666.97,\n          610.03\n        ],\n        \"semantic_type\": \"\",\n        \"description\": \"\"\n      }\n    },\n    {\n      \"column\": \"DayOfWeek_sin\",\n      \"properties\": {\n        \"dtype\": \"number\",\n        \"std\": 0.5712203179733544,\n        \"min\": -0.8660254037844384,\n        \"max\": 0.8660254037844387,\n        \"num_unique_values\": 6,\n        \"samples\": [\n          1.2246467991473532e-16,\n          -2.4492935982947064e-16,\n          0.8660254037844386\n        ],\n        \"semantic_type\": \"\",\n        \"description\": \"\"\n      }\n    },\n    {\n      \"column\": \"DayOfWeek_cos\",\n      \"properties\": {\n        \"dtype\": \"number\",\n        \"std\": 0.8196950725896726,\n        \"min\": -1.0,\n        \"max\": 1.0,\n        \"num_unique_values\": 5,\n        \"samples\": [\n          1.0,\n          0.5000000000000001,\n          -0.4999999999999998\n        ],\n        \"semantic_type\": \"\",\n        \"description\": \"\"\n      }\n    },\n    {\n      \"column\": \"Label\",\n      \"properties\": {\n        \"dtype\": \"int32\",\n        \"num_unique_values\": 6,\n        \"samples\": [\n          2,\n          1,\n          3\n        ],\n        \"semantic_type\": \"\",\n        \"description\": \"\"\n      }\n    }\n  ]\n}"
            }
          },
          "metadata": {},
          "execution_count": 32
        }
      ]
    },
    {
      "cell_type": "code",
      "metadata": {
        "id": "YLCHn9-j5ooT",
        "outputId": "4537808a-b4a5-4d56-b1ff-e1adb85691d3",
        "colab": {
          "base_uri": "https://localhost:8080/"
        }
      },
      "source": [
        "features = data_grouped.iloc[:,1:-1]\n",
        "labels = data_grouped.iloc[:,-1]\n",
        "X_train, X_test, y_train, y_test = train_test_split(features, labels, test_size=0.25,random_state=42)\n",
        "X_train.shape, X_test.shape, y_train.shape, y_test.shape"
      ],
      "id": "YLCHn9-j5ooT",
      "execution_count": 33,
      "outputs": [
        {
          "output_type": "execute_result",
          "data": {
            "text/plain": [
              "((3237, 4), (1079, 4), (3237,), (1079,))"
            ]
          },
          "metadata": {},
          "execution_count": 33
        }
      ]
    },
    {
      "cell_type": "code",
      "metadata": {
        "id": "RU2QrFi06aKA",
        "outputId": "ffee62d0-82a1-4b21-8f4b-7d334d3ee353",
        "colab": {
          "base_uri": "https://localhost:8080/"
        }
      },
      "source": [
        "from sklearn.ensemble import RandomForestClassifier\n",
        "rf = RandomForestClassifier()\n",
        "rf.fit(X_train,y_train)\n",
        "rf.score(X_test, y_test)"
      ],
      "id": "RU2QrFi06aKA",
      "execution_count": 34,
      "outputs": [
        {
          "output_type": "execute_result",
          "data": {
            "text/plain": [
              "0.9990732159406858"
            ]
          },
          "metadata": {},
          "execution_count": 34
        }
      ]
    },
    {
      "cell_type": "markdown",
      "metadata": {
        "id": "cUWhJeDpzh7Z"
      },
      "source": [
        "### Evaluation of Test Data\n",
        "\n",
        "* Format the test data in the same format as the train data.\n",
        "* predict it with trained supervised ML model"
      ],
      "id": "cUWhJeDpzh7Z"
    },
    {
      "cell_type": "code",
      "metadata": {
        "id": "G16_wae9zjv7",
        "outputId": "8f32994b-6e36-4bff-ebd5-dbe3756815f3",
        "colab": {
          "base_uri": "https://localhost:8080/",
          "height": 143
        }
      },
      "source": [
        "test = pd.read_csv(\"Online_Retail_Test.csv\")\n",
        "test.head(3)"
      ],
      "id": "G16_wae9zjv7",
      "execution_count": 35,
      "outputs": [
        {
          "output_type": "execute_result",
          "data": {
            "text/plain": [
              "  InvoiceNo StockCode                     Description  Quantity  \\\n",
              "0    555200     71459  HANGING JAM JAR T-LIGHT HOLDER        24   \n",
              "1    554974     21128              GOLD FISHING GNOME         4   \n",
              "2    550972     21086     SET/6 RED SPOTTY PAPER CUPS         4   \n",
              "\n",
              "           InvoiceDate  UnitPrice  CustomerID         Country  \n",
              "0  2011-06-01 12:05:00       0.85     17315.0  United Kingdom  \n",
              "1  2011-05-27 17:14:00       6.95     14031.0  United Kingdom  \n",
              "2  2011-04-21 17:05:00       0.65     14031.0  United Kingdom  "
            ],
            "text/html": [
              "\n",
              "  <div id=\"df-da6bb0f1-9d0d-431d-b704-f07b9483a179\" class=\"colab-df-container\">\n",
              "    <div>\n",
              "<style scoped>\n",
              "    .dataframe tbody tr th:only-of-type {\n",
              "        vertical-align: middle;\n",
              "    }\n",
              "\n",
              "    .dataframe tbody tr th {\n",
              "        vertical-align: top;\n",
              "    }\n",
              "\n",
              "    .dataframe thead th {\n",
              "        text-align: right;\n",
              "    }\n",
              "</style>\n",
              "<table border=\"1\" class=\"dataframe\">\n",
              "  <thead>\n",
              "    <tr style=\"text-align: right;\">\n",
              "      <th></th>\n",
              "      <th>InvoiceNo</th>\n",
              "      <th>StockCode</th>\n",
              "      <th>Description</th>\n",
              "      <th>Quantity</th>\n",
              "      <th>InvoiceDate</th>\n",
              "      <th>UnitPrice</th>\n",
              "      <th>CustomerID</th>\n",
              "      <th>Country</th>\n",
              "    </tr>\n",
              "  </thead>\n",
              "  <tbody>\n",
              "    <tr>\n",
              "      <th>0</th>\n",
              "      <td>555200</td>\n",
              "      <td>71459</td>\n",
              "      <td>HANGING JAM JAR T-LIGHT HOLDER</td>\n",
              "      <td>24</td>\n",
              "      <td>2011-06-01 12:05:00</td>\n",
              "      <td>0.85</td>\n",
              "      <td>17315.0</td>\n",
              "      <td>United Kingdom</td>\n",
              "    </tr>\n",
              "    <tr>\n",
              "      <th>1</th>\n",
              "      <td>554974</td>\n",
              "      <td>21128</td>\n",
              "      <td>GOLD FISHING GNOME</td>\n",
              "      <td>4</td>\n",
              "      <td>2011-05-27 17:14:00</td>\n",
              "      <td>6.95</td>\n",
              "      <td>14031.0</td>\n",
              "      <td>United Kingdom</td>\n",
              "    </tr>\n",
              "    <tr>\n",
              "      <th>2</th>\n",
              "      <td>550972</td>\n",
              "      <td>21086</td>\n",
              "      <td>SET/6 RED SPOTTY PAPER CUPS</td>\n",
              "      <td>4</td>\n",
              "      <td>2011-04-21 17:05:00</td>\n",
              "      <td>0.65</td>\n",
              "      <td>14031.0</td>\n",
              "      <td>United Kingdom</td>\n",
              "    </tr>\n",
              "  </tbody>\n",
              "</table>\n",
              "</div>\n",
              "    <div class=\"colab-df-buttons\">\n",
              "\n",
              "  <div class=\"colab-df-container\">\n",
              "    <button class=\"colab-df-convert\" onclick=\"convertToInteractive('df-da6bb0f1-9d0d-431d-b704-f07b9483a179')\"\n",
              "            title=\"Convert this dataframe to an interactive table.\"\n",
              "            style=\"display:none;\">\n",
              "\n",
              "  <svg xmlns=\"http://www.w3.org/2000/svg\" height=\"24px\" viewBox=\"0 -960 960 960\">\n",
              "    <path d=\"M120-120v-720h720v720H120Zm60-500h600v-160H180v160Zm220 220h160v-160H400v160Zm0 220h160v-160H400v160ZM180-400h160v-160H180v160Zm440 0h160v-160H620v160ZM180-180h160v-160H180v160Zm440 0h160v-160H620v160Z\"/>\n",
              "  </svg>\n",
              "    </button>\n",
              "\n",
              "  <style>\n",
              "    .colab-df-container {\n",
              "      display:flex;\n",
              "      gap: 12px;\n",
              "    }\n",
              "\n",
              "    .colab-df-convert {\n",
              "      background-color: #E8F0FE;\n",
              "      border: none;\n",
              "      border-radius: 50%;\n",
              "      cursor: pointer;\n",
              "      display: none;\n",
              "      fill: #1967D2;\n",
              "      height: 32px;\n",
              "      padding: 0 0 0 0;\n",
              "      width: 32px;\n",
              "    }\n",
              "\n",
              "    .colab-df-convert:hover {\n",
              "      background-color: #E2EBFA;\n",
              "      box-shadow: 0px 1px 2px rgba(60, 64, 67, 0.3), 0px 1px 3px 1px rgba(60, 64, 67, 0.15);\n",
              "      fill: #174EA6;\n",
              "    }\n",
              "\n",
              "    .colab-df-buttons div {\n",
              "      margin-bottom: 4px;\n",
              "    }\n",
              "\n",
              "    [theme=dark] .colab-df-convert {\n",
              "      background-color: #3B4455;\n",
              "      fill: #D2E3FC;\n",
              "    }\n",
              "\n",
              "    [theme=dark] .colab-df-convert:hover {\n",
              "      background-color: #434B5C;\n",
              "      box-shadow: 0px 1px 3px 1px rgba(0, 0, 0, 0.15);\n",
              "      filter: drop-shadow(0px 1px 2px rgba(0, 0, 0, 0.3));\n",
              "      fill: #FFFFFF;\n",
              "    }\n",
              "  </style>\n",
              "\n",
              "    <script>\n",
              "      const buttonEl =\n",
              "        document.querySelector('#df-da6bb0f1-9d0d-431d-b704-f07b9483a179 button.colab-df-convert');\n",
              "      buttonEl.style.display =\n",
              "        google.colab.kernel.accessAllowed ? 'block' : 'none';\n",
              "\n",
              "      async function convertToInteractive(key) {\n",
              "        const element = document.querySelector('#df-da6bb0f1-9d0d-431d-b704-f07b9483a179');\n",
              "        const dataTable =\n",
              "          await google.colab.kernel.invokeFunction('convertToInteractive',\n",
              "                                                    [key], {});\n",
              "        if (!dataTable) return;\n",
              "\n",
              "        const docLinkHtml = 'Like what you see? Visit the ' +\n",
              "          '<a target=\"_blank\" href=https://colab.research.google.com/notebooks/data_table.ipynb>data table notebook</a>'\n",
              "          + ' to learn more about interactive tables.';\n",
              "        element.innerHTML = '';\n",
              "        dataTable['output_type'] = 'display_data';\n",
              "        await google.colab.output.renderOutput(dataTable, element);\n",
              "        const docLink = document.createElement('div');\n",
              "        docLink.innerHTML = docLinkHtml;\n",
              "        element.appendChild(docLink);\n",
              "      }\n",
              "    </script>\n",
              "  </div>\n",
              "\n",
              "\n",
              "<div id=\"df-1efbc75c-0ad9-4696-b578-91b82c75f98a\">\n",
              "  <button class=\"colab-df-quickchart\" onclick=\"quickchart('df-1efbc75c-0ad9-4696-b578-91b82c75f98a')\"\n",
              "            title=\"Suggest charts\"\n",
              "            style=\"display:none;\">\n",
              "\n",
              "<svg xmlns=\"http://www.w3.org/2000/svg\" height=\"24px\"viewBox=\"0 0 24 24\"\n",
              "     width=\"24px\">\n",
              "    <g>\n",
              "        <path d=\"M19 3H5c-1.1 0-2 .9-2 2v14c0 1.1.9 2 2 2h14c1.1 0 2-.9 2-2V5c0-1.1-.9-2-2-2zM9 17H7v-7h2v7zm4 0h-2V7h2v10zm4 0h-2v-4h2v4z\"/>\n",
              "    </g>\n",
              "</svg>\n",
              "  </button>\n",
              "\n",
              "<style>\n",
              "  .colab-df-quickchart {\n",
              "      --bg-color: #E8F0FE;\n",
              "      --fill-color: #1967D2;\n",
              "      --hover-bg-color: #E2EBFA;\n",
              "      --hover-fill-color: #174EA6;\n",
              "      --disabled-fill-color: #AAA;\n",
              "      --disabled-bg-color: #DDD;\n",
              "  }\n",
              "\n",
              "  [theme=dark] .colab-df-quickchart {\n",
              "      --bg-color: #3B4455;\n",
              "      --fill-color: #D2E3FC;\n",
              "      --hover-bg-color: #434B5C;\n",
              "      --hover-fill-color: #FFFFFF;\n",
              "      --disabled-bg-color: #3B4455;\n",
              "      --disabled-fill-color: #666;\n",
              "  }\n",
              "\n",
              "  .colab-df-quickchart {\n",
              "    background-color: var(--bg-color);\n",
              "    border: none;\n",
              "    border-radius: 50%;\n",
              "    cursor: pointer;\n",
              "    display: none;\n",
              "    fill: var(--fill-color);\n",
              "    height: 32px;\n",
              "    padding: 0;\n",
              "    width: 32px;\n",
              "  }\n",
              "\n",
              "  .colab-df-quickchart:hover {\n",
              "    background-color: var(--hover-bg-color);\n",
              "    box-shadow: 0 1px 2px rgba(60, 64, 67, 0.3), 0 1px 3px 1px rgba(60, 64, 67, 0.15);\n",
              "    fill: var(--button-hover-fill-color);\n",
              "  }\n",
              "\n",
              "  .colab-df-quickchart-complete:disabled,\n",
              "  .colab-df-quickchart-complete:disabled:hover {\n",
              "    background-color: var(--disabled-bg-color);\n",
              "    fill: var(--disabled-fill-color);\n",
              "    box-shadow: none;\n",
              "  }\n",
              "\n",
              "  .colab-df-spinner {\n",
              "    border: 2px solid var(--fill-color);\n",
              "    border-color: transparent;\n",
              "    border-bottom-color: var(--fill-color);\n",
              "    animation:\n",
              "      spin 1s steps(1) infinite;\n",
              "  }\n",
              "\n",
              "  @keyframes spin {\n",
              "    0% {\n",
              "      border-color: transparent;\n",
              "      border-bottom-color: var(--fill-color);\n",
              "      border-left-color: var(--fill-color);\n",
              "    }\n",
              "    20% {\n",
              "      border-color: transparent;\n",
              "      border-left-color: var(--fill-color);\n",
              "      border-top-color: var(--fill-color);\n",
              "    }\n",
              "    30% {\n",
              "      border-color: transparent;\n",
              "      border-left-color: var(--fill-color);\n",
              "      border-top-color: var(--fill-color);\n",
              "      border-right-color: var(--fill-color);\n",
              "    }\n",
              "    40% {\n",
              "      border-color: transparent;\n",
              "      border-right-color: var(--fill-color);\n",
              "      border-top-color: var(--fill-color);\n",
              "    }\n",
              "    60% {\n",
              "      border-color: transparent;\n",
              "      border-right-color: var(--fill-color);\n",
              "    }\n",
              "    80% {\n",
              "      border-color: transparent;\n",
              "      border-right-color: var(--fill-color);\n",
              "      border-bottom-color: var(--fill-color);\n",
              "    }\n",
              "    90% {\n",
              "      border-color: transparent;\n",
              "      border-bottom-color: var(--fill-color);\n",
              "    }\n",
              "  }\n",
              "</style>\n",
              "\n",
              "  <script>\n",
              "    async function quickchart(key) {\n",
              "      const quickchartButtonEl =\n",
              "        document.querySelector('#' + key + ' button');\n",
              "      quickchartButtonEl.disabled = true;  // To prevent multiple clicks.\n",
              "      quickchartButtonEl.classList.add('colab-df-spinner');\n",
              "      try {\n",
              "        const charts = await google.colab.kernel.invokeFunction(\n",
              "            'suggestCharts', [key], {});\n",
              "      } catch (error) {\n",
              "        console.error('Error during call to suggestCharts:', error);\n",
              "      }\n",
              "      quickchartButtonEl.classList.remove('colab-df-spinner');\n",
              "      quickchartButtonEl.classList.add('colab-df-quickchart-complete');\n",
              "    }\n",
              "    (() => {\n",
              "      let quickchartButtonEl =\n",
              "        document.querySelector('#df-1efbc75c-0ad9-4696-b578-91b82c75f98a button');\n",
              "      quickchartButtonEl.style.display =\n",
              "        google.colab.kernel.accessAllowed ? 'block' : 'none';\n",
              "    })();\n",
              "  </script>\n",
              "</div>\n",
              "\n",
              "    </div>\n",
              "  </div>\n"
            ],
            "application/vnd.google.colaboratory.intrinsic+json": {
              "type": "dataframe",
              "variable_name": "test",
              "summary": "{\n  \"name\": \"test\",\n  \"rows\": 27096,\n  \"fields\": [\n    {\n      \"column\": \"InvoiceNo\",\n      \"properties\": {\n        \"dtype\": \"category\",\n        \"num_unique_values\": 11040,\n        \"samples\": [\n          \"579136\",\n          \"569141\",\n          \"543188\"\n        ],\n        \"semantic_type\": \"\",\n        \"description\": \"\"\n      }\n    },\n    {\n      \"column\": \"StockCode\",\n      \"properties\": {\n        \"dtype\": \"category\",\n        \"num_unique_values\": 3052,\n        \"samples\": [\n          \"85174\",\n          \"84625A\",\n          \"22910\"\n        ],\n        \"semantic_type\": \"\",\n        \"description\": \"\"\n      }\n    },\n    {\n      \"column\": \"Description\",\n      \"properties\": {\n        \"dtype\": \"category\",\n        \"num_unique_values\": 3097,\n        \"samples\": [\n          \"SWISS CHALET TREE DECORATION \",\n          \"CHILDRENS CUTLERY POLKADOT BLUE\",\n          \"SET OF 4 NAPKIN CHARMS CROWNS \"\n        ],\n        \"semantic_type\": \"\",\n        \"description\": \"\"\n      }\n    },\n    {\n      \"column\": \"Quantity\",\n      \"properties\": {\n        \"dtype\": \"number\",\n        \"std\": 42,\n        \"min\": -2376,\n        \"max\": 2880,\n        \"num_unique_values\": 177,\n        \"samples\": [\n          600,\n          34,\n          33\n        ],\n        \"semantic_type\": \"\",\n        \"description\": \"\"\n      }\n    },\n    {\n      \"column\": \"InvoiceDate\",\n      \"properties\": {\n        \"dtype\": \"object\",\n        \"num_unique_values\": 10554,\n        \"samples\": [\n          \"2011-01-14 09:52:00\",\n          \"2011-10-10 11:14:00\",\n          \"2011-11-22 16:47:00\"\n        ],\n        \"semantic_type\": \"\",\n        \"description\": \"\"\n      }\n    },\n    {\n      \"column\": \"UnitPrice\",\n      \"properties\": {\n        \"dtype\": \"number\",\n        \"std\": 115.68428220681568,\n        \"min\": 0.0,\n        \"max\": 13541.33,\n        \"num_unique_values\": 324,\n        \"samples\": [\n          8.0,\n          0.66,\n          111.73\n        ],\n        \"semantic_type\": \"\",\n        \"description\": \"\"\n      }\n    },\n    {\n      \"column\": \"CustomerID\",\n      \"properties\": {\n        \"dtype\": \"number\",\n        \"std\": 1714.1259117480809,\n        \"min\": 12347.0,\n        \"max\": 18287.0,\n        \"num_unique_values\": 3344,\n        \"samples\": [\n          18270.0,\n          16243.0,\n          17463.0\n        ],\n        \"semantic_type\": \"\",\n        \"description\": \"\"\n      }\n    },\n    {\n      \"column\": \"Country\",\n      \"properties\": {\n        \"dtype\": \"category\",\n        \"num_unique_values\": 36,\n        \"samples\": [\n          \"Lebanon\",\n          \"Austria\",\n          \"Iceland\"\n        ],\n        \"semantic_type\": \"\",\n        \"description\": \"\"\n      }\n    }\n  ]\n}"
            }
          },
          "metadata": {},
          "execution_count": 35
        }
      ]
    },
    {
      "cell_type": "code",
      "metadata": {
        "id": "WU4cC3qWKyCi",
        "outputId": "ab57c920-0f43-427a-c65b-6957fa854cf1",
        "colab": {
          "base_uri": "https://localhost:8080/",
          "height": 199
        }
      },
      "source": [
        "test_preprocessed = pre_processing(test)\n",
        "df_test = feature_engineering(test_preprocessed)\n",
        "df_test.head(2)"
      ],
      "id": "WU4cC3qWKyCi",
      "execution_count": 36,
      "outputs": [
        {
          "output_type": "stream",
          "name": "stderr",
          "text": [
            "<ipython-input-12-70d96094e572>:4: SettingWithCopyWarning: \n",
            "A value is trying to be set on a copy of a slice from a DataFrame\n",
            "\n",
            "See the caveats in the documentation: https://pandas.pydata.org/pandas-docs/stable/user_guide/indexing.html#returning-a-view-versus-a-copy\n",
            "  df.dropna(inplace=True)\n"
          ]
        },
        {
          "output_type": "execute_result",
          "data": {
            "text/plain": [
              "   CustomerID  Quantity  TotalSpend  DayOfWeek_sin  DayOfWeek_cos\n",
              "0     12347.0       106      218.20   1.224647e-16           -1.0\n",
              "1     12348.0       144       41.76   8.660254e-01            0.5"
            ],
            "text/html": [
              "\n",
              "  <div id=\"df-d8059fa4-0cc6-439c-91dc-ef822172e2b7\" class=\"colab-df-container\">\n",
              "    <div>\n",
              "<style scoped>\n",
              "    .dataframe tbody tr th:only-of-type {\n",
              "        vertical-align: middle;\n",
              "    }\n",
              "\n",
              "    .dataframe tbody tr th {\n",
              "        vertical-align: top;\n",
              "    }\n",
              "\n",
              "    .dataframe thead th {\n",
              "        text-align: right;\n",
              "    }\n",
              "</style>\n",
              "<table border=\"1\" class=\"dataframe\">\n",
              "  <thead>\n",
              "    <tr style=\"text-align: right;\">\n",
              "      <th></th>\n",
              "      <th>CustomerID</th>\n",
              "      <th>Quantity</th>\n",
              "      <th>TotalSpend</th>\n",
              "      <th>DayOfWeek_sin</th>\n",
              "      <th>DayOfWeek_cos</th>\n",
              "    </tr>\n",
              "  </thead>\n",
              "  <tbody>\n",
              "    <tr>\n",
              "      <th>0</th>\n",
              "      <td>12347.0</td>\n",
              "      <td>106</td>\n",
              "      <td>218.20</td>\n",
              "      <td>1.224647e-16</td>\n",
              "      <td>-1.0</td>\n",
              "    </tr>\n",
              "    <tr>\n",
              "      <th>1</th>\n",
              "      <td>12348.0</td>\n",
              "      <td>144</td>\n",
              "      <td>41.76</td>\n",
              "      <td>8.660254e-01</td>\n",
              "      <td>0.5</td>\n",
              "    </tr>\n",
              "  </tbody>\n",
              "</table>\n",
              "</div>\n",
              "    <div class=\"colab-df-buttons\">\n",
              "\n",
              "  <div class=\"colab-df-container\">\n",
              "    <button class=\"colab-df-convert\" onclick=\"convertToInteractive('df-d8059fa4-0cc6-439c-91dc-ef822172e2b7')\"\n",
              "            title=\"Convert this dataframe to an interactive table.\"\n",
              "            style=\"display:none;\">\n",
              "\n",
              "  <svg xmlns=\"http://www.w3.org/2000/svg\" height=\"24px\" viewBox=\"0 -960 960 960\">\n",
              "    <path d=\"M120-120v-720h720v720H120Zm60-500h600v-160H180v160Zm220 220h160v-160H400v160Zm0 220h160v-160H400v160ZM180-400h160v-160H180v160Zm440 0h160v-160H620v160ZM180-180h160v-160H180v160Zm440 0h160v-160H620v160Z\"/>\n",
              "  </svg>\n",
              "    </button>\n",
              "\n",
              "  <style>\n",
              "    .colab-df-container {\n",
              "      display:flex;\n",
              "      gap: 12px;\n",
              "    }\n",
              "\n",
              "    .colab-df-convert {\n",
              "      background-color: #E8F0FE;\n",
              "      border: none;\n",
              "      border-radius: 50%;\n",
              "      cursor: pointer;\n",
              "      display: none;\n",
              "      fill: #1967D2;\n",
              "      height: 32px;\n",
              "      padding: 0 0 0 0;\n",
              "      width: 32px;\n",
              "    }\n",
              "\n",
              "    .colab-df-convert:hover {\n",
              "      background-color: #E2EBFA;\n",
              "      box-shadow: 0px 1px 2px rgba(60, 64, 67, 0.3), 0px 1px 3px 1px rgba(60, 64, 67, 0.15);\n",
              "      fill: #174EA6;\n",
              "    }\n",
              "\n",
              "    .colab-df-buttons div {\n",
              "      margin-bottom: 4px;\n",
              "    }\n",
              "\n",
              "    [theme=dark] .colab-df-convert {\n",
              "      background-color: #3B4455;\n",
              "      fill: #D2E3FC;\n",
              "    }\n",
              "\n",
              "    [theme=dark] .colab-df-convert:hover {\n",
              "      background-color: #434B5C;\n",
              "      box-shadow: 0px 1px 3px 1px rgba(0, 0, 0, 0.15);\n",
              "      filter: drop-shadow(0px 1px 2px rgba(0, 0, 0, 0.3));\n",
              "      fill: #FFFFFF;\n",
              "    }\n",
              "  </style>\n",
              "\n",
              "    <script>\n",
              "      const buttonEl =\n",
              "        document.querySelector('#df-d8059fa4-0cc6-439c-91dc-ef822172e2b7 button.colab-df-convert');\n",
              "      buttonEl.style.display =\n",
              "        google.colab.kernel.accessAllowed ? 'block' : 'none';\n",
              "\n",
              "      async function convertToInteractive(key) {\n",
              "        const element = document.querySelector('#df-d8059fa4-0cc6-439c-91dc-ef822172e2b7');\n",
              "        const dataTable =\n",
              "          await google.colab.kernel.invokeFunction('convertToInteractive',\n",
              "                                                    [key], {});\n",
              "        if (!dataTable) return;\n",
              "\n",
              "        const docLinkHtml = 'Like what you see? Visit the ' +\n",
              "          '<a target=\"_blank\" href=https://colab.research.google.com/notebooks/data_table.ipynb>data table notebook</a>'\n",
              "          + ' to learn more about interactive tables.';\n",
              "        element.innerHTML = '';\n",
              "        dataTable['output_type'] = 'display_data';\n",
              "        await google.colab.output.renderOutput(dataTable, element);\n",
              "        const docLink = document.createElement('div');\n",
              "        docLink.innerHTML = docLinkHtml;\n",
              "        element.appendChild(docLink);\n",
              "      }\n",
              "    </script>\n",
              "  </div>\n",
              "\n",
              "\n",
              "<div id=\"df-9eff2b38-5e9b-4fa3-a9eb-fd12648def04\">\n",
              "  <button class=\"colab-df-quickchart\" onclick=\"quickchart('df-9eff2b38-5e9b-4fa3-a9eb-fd12648def04')\"\n",
              "            title=\"Suggest charts\"\n",
              "            style=\"display:none;\">\n",
              "\n",
              "<svg xmlns=\"http://www.w3.org/2000/svg\" height=\"24px\"viewBox=\"0 0 24 24\"\n",
              "     width=\"24px\">\n",
              "    <g>\n",
              "        <path d=\"M19 3H5c-1.1 0-2 .9-2 2v14c0 1.1.9 2 2 2h14c1.1 0 2-.9 2-2V5c0-1.1-.9-2-2-2zM9 17H7v-7h2v7zm4 0h-2V7h2v10zm4 0h-2v-4h2v4z\"/>\n",
              "    </g>\n",
              "</svg>\n",
              "  </button>\n",
              "\n",
              "<style>\n",
              "  .colab-df-quickchart {\n",
              "      --bg-color: #E8F0FE;\n",
              "      --fill-color: #1967D2;\n",
              "      --hover-bg-color: #E2EBFA;\n",
              "      --hover-fill-color: #174EA6;\n",
              "      --disabled-fill-color: #AAA;\n",
              "      --disabled-bg-color: #DDD;\n",
              "  }\n",
              "\n",
              "  [theme=dark] .colab-df-quickchart {\n",
              "      --bg-color: #3B4455;\n",
              "      --fill-color: #D2E3FC;\n",
              "      --hover-bg-color: #434B5C;\n",
              "      --hover-fill-color: #FFFFFF;\n",
              "      --disabled-bg-color: #3B4455;\n",
              "      --disabled-fill-color: #666;\n",
              "  }\n",
              "\n",
              "  .colab-df-quickchart {\n",
              "    background-color: var(--bg-color);\n",
              "    border: none;\n",
              "    border-radius: 50%;\n",
              "    cursor: pointer;\n",
              "    display: none;\n",
              "    fill: var(--fill-color);\n",
              "    height: 32px;\n",
              "    padding: 0;\n",
              "    width: 32px;\n",
              "  }\n",
              "\n",
              "  .colab-df-quickchart:hover {\n",
              "    background-color: var(--hover-bg-color);\n",
              "    box-shadow: 0 1px 2px rgba(60, 64, 67, 0.3), 0 1px 3px 1px rgba(60, 64, 67, 0.15);\n",
              "    fill: var(--button-hover-fill-color);\n",
              "  }\n",
              "\n",
              "  .colab-df-quickchart-complete:disabled,\n",
              "  .colab-df-quickchart-complete:disabled:hover {\n",
              "    background-color: var(--disabled-bg-color);\n",
              "    fill: var(--disabled-fill-color);\n",
              "    box-shadow: none;\n",
              "  }\n",
              "\n",
              "  .colab-df-spinner {\n",
              "    border: 2px solid var(--fill-color);\n",
              "    border-color: transparent;\n",
              "    border-bottom-color: var(--fill-color);\n",
              "    animation:\n",
              "      spin 1s steps(1) infinite;\n",
              "  }\n",
              "\n",
              "  @keyframes spin {\n",
              "    0% {\n",
              "      border-color: transparent;\n",
              "      border-bottom-color: var(--fill-color);\n",
              "      border-left-color: var(--fill-color);\n",
              "    }\n",
              "    20% {\n",
              "      border-color: transparent;\n",
              "      border-left-color: var(--fill-color);\n",
              "      border-top-color: var(--fill-color);\n",
              "    }\n",
              "    30% {\n",
              "      border-color: transparent;\n",
              "      border-left-color: var(--fill-color);\n",
              "      border-top-color: var(--fill-color);\n",
              "      border-right-color: var(--fill-color);\n",
              "    }\n",
              "    40% {\n",
              "      border-color: transparent;\n",
              "      border-right-color: var(--fill-color);\n",
              "      border-top-color: var(--fill-color);\n",
              "    }\n",
              "    60% {\n",
              "      border-color: transparent;\n",
              "      border-right-color: var(--fill-color);\n",
              "    }\n",
              "    80% {\n",
              "      border-color: transparent;\n",
              "      border-right-color: var(--fill-color);\n",
              "      border-bottom-color: var(--fill-color);\n",
              "    }\n",
              "    90% {\n",
              "      border-color: transparent;\n",
              "      border-bottom-color: var(--fill-color);\n",
              "    }\n",
              "  }\n",
              "</style>\n",
              "\n",
              "  <script>\n",
              "    async function quickchart(key) {\n",
              "      const quickchartButtonEl =\n",
              "        document.querySelector('#' + key + ' button');\n",
              "      quickchartButtonEl.disabled = true;  // To prevent multiple clicks.\n",
              "      quickchartButtonEl.classList.add('colab-df-spinner');\n",
              "      try {\n",
              "        const charts = await google.colab.kernel.invokeFunction(\n",
              "            'suggestCharts', [key], {});\n",
              "      } catch (error) {\n",
              "        console.error('Error during call to suggestCharts:', error);\n",
              "      }\n",
              "      quickchartButtonEl.classList.remove('colab-df-spinner');\n",
              "      quickchartButtonEl.classList.add('colab-df-quickchart-complete');\n",
              "    }\n",
              "    (() => {\n",
              "      let quickchartButtonEl =\n",
              "        document.querySelector('#df-9eff2b38-5e9b-4fa3-a9eb-fd12648def04 button');\n",
              "      quickchartButtonEl.style.display =\n",
              "        google.colab.kernel.accessAllowed ? 'block' : 'none';\n",
              "    })();\n",
              "  </script>\n",
              "</div>\n",
              "\n",
              "    </div>\n",
              "  </div>\n"
            ],
            "application/vnd.google.colaboratory.intrinsic+json": {
              "type": "dataframe",
              "variable_name": "df_test",
              "summary": "{\n  \"name\": \"df_test\",\n  \"rows\": 3285,\n  \"fields\": [\n    {\n      \"column\": \"CustomerID\",\n      \"properties\": {\n        \"dtype\": \"number\",\n        \"std\": 1724.238041117986,\n        \"min\": 12347.0,\n        \"max\": 18287.0,\n        \"num_unique_values\": 3285,\n        \"samples\": [\n          16306.0,\n          17338.0,\n          15301.0\n        ],\n        \"semantic_type\": \"\",\n        \"description\": \"\"\n      }\n    },\n    {\n      \"column\": \"Quantity\",\n      \"properties\": {\n        \"dtype\": \"number\",\n        \"std\": 213,\n        \"min\": 1,\n        \"max\": 8119,\n        \"num_unique_values\": 315,\n        \"samples\": [\n          175,\n          101,\n          153\n        ],\n        \"semantic_type\": \"\",\n        \"description\": \"\"\n      }\n    },\n    {\n      \"column\": \"TotalSpend\",\n      \"properties\": {\n        \"dtype\": \"number\",\n        \"std\": 337.10267351207136,\n        \"min\": 0.39,\n        \"max\": 11620.62,\n        \"num_unique_values\": 2361,\n        \"samples\": [\n          7490.8,\n          12.190000000000001,\n          114.89999999999999\n        ],\n        \"semantic_type\": \"\",\n        \"description\": \"\"\n      }\n    },\n    {\n      \"column\": \"DayOfWeek_sin\",\n      \"properties\": {\n        \"dtype\": \"number\",\n        \"std\": 0.5762504276963438,\n        \"min\": -0.8660254037844384,\n        \"max\": 0.8660254037844387,\n        \"num_unique_values\": 6,\n        \"samples\": [\n          1.2246467991473532e-16,\n          0.8660254037844386,\n          0.8660254037844387\n        ],\n        \"semantic_type\": \"\",\n        \"description\": \"\"\n      }\n    },\n    {\n      \"column\": \"DayOfWeek_cos\",\n      \"properties\": {\n        \"dtype\": \"number\",\n        \"std\": 0.81745944931778,\n        \"min\": -1.0,\n        \"max\": 1.0,\n        \"num_unique_values\": 5,\n        \"samples\": [\n          0.5000000000000001,\n          -0.4999999999999998,\n          1.0\n        ],\n        \"semantic_type\": \"\",\n        \"description\": \"\"\n      }\n    }\n  ]\n}"
            }
          },
          "metadata": {},
          "execution_count": 36
        }
      ]
    },
    {
      "cell_type": "code",
      "metadata": {
        "id": "QGO4eCmAMA7P",
        "outputId": "060094c6-b795-4561-999a-094fd002541d",
        "colab": {
          "base_uri": "https://localhost:8080/",
          "height": 241
        }
      },
      "source": [
        "df_test.isna().sum()"
      ],
      "id": "QGO4eCmAMA7P",
      "execution_count": 37,
      "outputs": [
        {
          "output_type": "execute_result",
          "data": {
            "text/plain": [
              "CustomerID       0\n",
              "Quantity         0\n",
              "TotalSpend       0\n",
              "DayOfWeek_sin    0\n",
              "DayOfWeek_cos    0\n",
              "dtype: int64"
            ],
            "text/html": [
              "<div>\n",
              "<style scoped>\n",
              "    .dataframe tbody tr th:only-of-type {\n",
              "        vertical-align: middle;\n",
              "    }\n",
              "\n",
              "    .dataframe tbody tr th {\n",
              "        vertical-align: top;\n",
              "    }\n",
              "\n",
              "    .dataframe thead th {\n",
              "        text-align: right;\n",
              "    }\n",
              "</style>\n",
              "<table border=\"1\" class=\"dataframe\">\n",
              "  <thead>\n",
              "    <tr style=\"text-align: right;\">\n",
              "      <th></th>\n",
              "      <th>0</th>\n",
              "    </tr>\n",
              "  </thead>\n",
              "  <tbody>\n",
              "    <tr>\n",
              "      <th>CustomerID</th>\n",
              "      <td>0</td>\n",
              "    </tr>\n",
              "    <tr>\n",
              "      <th>Quantity</th>\n",
              "      <td>0</td>\n",
              "    </tr>\n",
              "    <tr>\n",
              "      <th>TotalSpend</th>\n",
              "      <td>0</td>\n",
              "    </tr>\n",
              "    <tr>\n",
              "      <th>DayOfWeek_sin</th>\n",
              "      <td>0</td>\n",
              "    </tr>\n",
              "    <tr>\n",
              "      <th>DayOfWeek_cos</th>\n",
              "      <td>0</td>\n",
              "    </tr>\n",
              "  </tbody>\n",
              "</table>\n",
              "</div><br><label><b>dtype:</b> int64</label>"
            ]
          },
          "metadata": {},
          "execution_count": 37
        }
      ]
    },
    {
      "cell_type": "code",
      "metadata": {
        "id": "R_PzIW2QDizH",
        "outputId": "b4a85ed6-ad97-4d63-ebe6-84e08d846ccc",
        "colab": {
          "base_uri": "https://localhost:8080/"
        }
      },
      "source": [
        "test = df_test.iloc[:,1:]\n",
        "test_features = pd.DataFrame(sc.transform(test), columns=test.columns)\n",
        "rf.predict(test_features)"
      ],
      "id": "R_PzIW2QDizH",
      "execution_count": 38,
      "outputs": [
        {
          "output_type": "execute_result",
          "data": {
            "text/plain": [
              "array([2, 5, 1, ..., 0, 2, 1], dtype=int32)"
            ]
          },
          "metadata": {},
          "execution_count": 38
        }
      ]
    },
    {
      "cell_type": "markdown",
      "metadata": {
        "id": "ZAXIXD9S7Jxx"
      },
      "source": [
        "### Report Analysis\n",
        "\n",
        "- Discuss the pros and cons of removing the missing values vs replacing with the mean values\n",
        "- Based on the visualization of clusters, comment on the difference in buying patterns of each cluster\n",
        "- What others methods could be used to determine the optimal no. of clusters?"
      ],
      "id": "ZAXIXD9S7Jxx"
    }
  ]
}